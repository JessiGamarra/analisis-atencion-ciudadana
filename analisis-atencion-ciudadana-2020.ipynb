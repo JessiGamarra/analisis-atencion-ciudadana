{
 "cells": [
  {
   "cell_type": "markdown",
   "id": "d3900610",
   "metadata": {
    "slideshow": {
     "slide_type": "slide"
    }
   },
   "source": [
    "# Análisis de los Datos del Sistema Único de Atención Ciudadana de CABA 2020\n",
    "**por Jessica Gamarra**\n",
    "\n",
    "Este trabajo contiene un análisis de los datos de los contactos realizados al _Sistema Único de Atención Ciudadana (SUACI)_ que incluyen: fecha, concepto y referencia geográfica.\n",
    "## Objetivo\n",
    "El objetivo de este análisis es responder a las siguientes preguntas:\n",
    "\n",
    "- ¿Cuál es el tipo de contacto predominante? \n",
    "- ¿Hay una estacionalidad en los registros de las denuncias según los meses?\n",
    "- ¿Qué categorías tienen más contactos?\n",
    "- ¿Hay diferencias en los contactos realizados al sistema según el género de la persona?\n",
    "- ¿Hay comunas que presentan más denuncias que otras?\n",
    "- ¿Cuál es el canal de comunucación más utilizado para realizar denuncias?\n",
    "\n"
   ]
  },
  {
   "cell_type": "markdown",
   "id": "988bbf6a",
   "metadata": {
    "slideshow": {
     "slide_type": "subslide"
    }
   },
   "source": [
    "## Tabla de Contenidos\n",
    "1. Carga de Datos\n",
    "2. Exploración de Datos\n",
    "3. Limpieza de Datos\n",
    "4. Presentación de Datos\n",
    "5. Conclusiones"
   ]
  },
  {
   "cell_type": "markdown",
   "id": "0619703d",
   "metadata": {
    "slideshow": {
     "slide_type": "slide"
    }
   },
   "source": [
    "## 1. Carga de Datos\n",
    "En esta sección se cargarán los datos obtenidos de los contactos realizados al [_SUACI_](https://data.buenosaires.gob.ar/dataset/sistema-unico-atencion-ciudadana) durante el año 2020. "
   ]
  },
  {
   "cell_type": "code",
   "execution_count": 1,
   "id": "100f38c2",
   "metadata": {
    "slideshow": {
     "slide_type": "fragment"
    }
   },
   "outputs": [],
   "source": [
    "#Se importan las librerias necesarias\n",
    "import pandas as pd\n",
    "import numpy as np \n",
    "import seaborn as sns\n",
    "import matplotlib.pyplot as plt\n",
    "\n",
    "%matplotlib inline"
   ]
  },
  {
   "cell_type": "code",
   "execution_count": 3,
   "id": "8f6b6751",
   "metadata": {
    "slideshow": {
     "slide_type": "subslide"
    }
   },
   "outputs": [
    {
     "name": "stderr",
     "output_type": "stream",
     "text": [
      "C:\\Users\\jessica\\anaconda3\\lib\\site-packages\\IPython\\core\\interactiveshell.py:3165: DtypeWarning: Columns (8) have mixed types.Specify dtype option on import or set low_memory=False.\n",
      "  has_raised = await self.run_ast_nodes(code_ast.body, cell_name,\n"
     ]
    },
    {
     "data": {
      "text/html": [
       "<div>\n",
       "<style scoped>\n",
       "    .dataframe tbody tr th:only-of-type {\n",
       "        vertical-align: middle;\n",
       "    }\n",
       "\n",
       "    .dataframe tbody tr th {\n",
       "        vertical-align: top;\n",
       "    }\n",
       "\n",
       "    .dataframe thead th {\n",
       "        text-align: right;\n",
       "    }\n",
       "</style>\n",
       "<table border=\"1\" class=\"dataframe\">\n",
       "  <thead>\n",
       "    <tr style=\"text-align: right;\">\n",
       "      <th></th>\n",
       "      <th>contacto</th>\n",
       "      <th>periodo</th>\n",
       "      <th>categoria</th>\n",
       "      <th>subcategoria</th>\n",
       "      <th>concepto</th>\n",
       "      <th>tipo_prestacion</th>\n",
       "      <th>domicilio_cgpc</th>\n",
       "      <th>domicilio_barrio</th>\n",
       "      <th>canal</th>\n",
       "      <th>genero</th>\n",
       "      <th>estado_del_contacto</th>\n",
       "    </tr>\n",
       "  </thead>\n",
       "  <tbody>\n",
       "    <tr>\n",
       "      <th>0</th>\n",
       "      <td>00000001/20</td>\n",
       "      <td>202001</td>\n",
       "      <td>TRÁNSITO</td>\n",
       "      <td>DENUNCIA VIAL</td>\n",
       "      <td>VEHÍCULO MAL ESTACIONADO</td>\n",
       "      <td>DENUNCIA</td>\n",
       "      <td>COMUNA 6</td>\n",
       "      <td>CABALLITO</td>\n",
       "      <td>Comunas</td>\n",
       "      <td>Femenino</td>\n",
       "      <td>Cerrado</td>\n",
       "    </tr>\n",
       "    <tr>\n",
       "      <th>1</th>\n",
       "      <td>00000002/20</td>\n",
       "      <td>202001</td>\n",
       "      <td>TRÁNSITO</td>\n",
       "      <td>DENUNCIA VIAL</td>\n",
       "      <td>VEHÍCULO MAL ESTACIONADO</td>\n",
       "      <td>DENUNCIA</td>\n",
       "      <td>COMUNA 4</td>\n",
       "      <td>PARQUE PATRICIOS</td>\n",
       "      <td>Comunas</td>\n",
       "      <td>Femenino</td>\n",
       "      <td>Cerrado</td>\n",
       "    </tr>\n",
       "    <tr>\n",
       "      <th>2</th>\n",
       "      <td>00000003/20</td>\n",
       "      <td>202001</td>\n",
       "      <td>ARBOLADO Y ESPACIOS VERDES</td>\n",
       "      <td>PLANTACIÓN DE ÁRBOL</td>\n",
       "      <td>PLANTACIÓN DE ÁRBOL</td>\n",
       "      <td>SOLICITUD</td>\n",
       "      <td>COMUNA 13</td>\n",
       "      <td>COLEGIALES</td>\n",
       "      <td>Comunas</td>\n",
       "      <td>Masculino</td>\n",
       "      <td>Cerrado</td>\n",
       "    </tr>\n",
       "    <tr>\n",
       "      <th>3</th>\n",
       "      <td>00000004/20</td>\n",
       "      <td>202001</td>\n",
       "      <td>ARBOLADO Y ESPACIOS VERDES</td>\n",
       "      <td>PLANTACIÓN DE ÁRBOL</td>\n",
       "      <td>PLANTACIÓN DE ÁRBOL</td>\n",
       "      <td>SOLICITUD</td>\n",
       "      <td>COMUNA 13</td>\n",
       "      <td>COLEGIALES</td>\n",
       "      <td>Comunas</td>\n",
       "      <td>Masculino</td>\n",
       "      <td>Abierto</td>\n",
       "    </tr>\n",
       "    <tr>\n",
       "      <th>4</th>\n",
       "      <td>00000005/20</td>\n",
       "      <td>202001</td>\n",
       "      <td>LIMPIEZA Y RECOLECCIÓN</td>\n",
       "      <td>LIMPIEZA DE VÍA PÚBLICA</td>\n",
       "      <td>RECOLECCIÓN DE RESIDUOS FUERA DEL CONTENEDOR</td>\n",
       "      <td>SOLICITUD</td>\n",
       "      <td>COMUNA 12</td>\n",
       "      <td>COGHLAN</td>\n",
       "      <td>Comunas</td>\n",
       "      <td>Femenino</td>\n",
       "      <td>Cerrado</td>\n",
       "    </tr>\n",
       "    <tr>\n",
       "      <th>5</th>\n",
       "      <td>00000006/20</td>\n",
       "      <td>202001</td>\n",
       "      <td>FISCALIZACIÓN ACTIVIDADES COMERCIALES</td>\n",
       "      <td>HABILITACIONES Y PERMISOS</td>\n",
       "      <td>ACTIVIDAD DE BAILE EFECTUADA SIN PERMISO</td>\n",
       "      <td>DENUNCIA</td>\n",
       "      <td>COMUNA 4</td>\n",
       "      <td>BARRACAS</td>\n",
       "      <td>Comunas</td>\n",
       "      <td>Masculino</td>\n",
       "      <td>Cerrado</td>\n",
       "    </tr>\n",
       "  </tbody>\n",
       "</table>\n",
       "</div>"
      ],
      "text/plain": [
       "      contacto  periodo                              categoria  \\\n",
       "0  00000001/20   202001                               TRÁNSITO   \n",
       "1  00000002/20   202001                               TRÁNSITO   \n",
       "2  00000003/20   202001             ARBOLADO Y ESPACIOS VERDES   \n",
       "3  00000004/20   202001             ARBOLADO Y ESPACIOS VERDES   \n",
       "4  00000005/20   202001                 LIMPIEZA Y RECOLECCIÓN   \n",
       "5  00000006/20   202001  FISCALIZACIÓN ACTIVIDADES COMERCIALES   \n",
       "\n",
       "                subcategoria                                      concepto  \\\n",
       "0              DENUNCIA VIAL                      VEHÍCULO MAL ESTACIONADO   \n",
       "1              DENUNCIA VIAL                      VEHÍCULO MAL ESTACIONADO   \n",
       "2        PLANTACIÓN DE ÁRBOL                           PLANTACIÓN DE ÁRBOL   \n",
       "3        PLANTACIÓN DE ÁRBOL                           PLANTACIÓN DE ÁRBOL   \n",
       "4    LIMPIEZA DE VÍA PÚBLICA  RECOLECCIÓN DE RESIDUOS FUERA DEL CONTENEDOR   \n",
       "5  HABILITACIONES Y PERMISOS      ACTIVIDAD DE BAILE EFECTUADA SIN PERMISO   \n",
       "\n",
       "  tipo_prestacion domicilio_cgpc  domicilio_barrio    canal     genero  \\\n",
       "0        DENUNCIA       COMUNA 6         CABALLITO  Comunas   Femenino   \n",
       "1        DENUNCIA       COMUNA 4  PARQUE PATRICIOS  Comunas   Femenino   \n",
       "2       SOLICITUD      COMUNA 13        COLEGIALES  Comunas  Masculino   \n",
       "3       SOLICITUD      COMUNA 13        COLEGIALES  Comunas  Masculino   \n",
       "4       SOLICITUD      COMUNA 12           COGHLAN  Comunas   Femenino   \n",
       "5        DENUNCIA       COMUNA 4          BARRACAS  Comunas  Masculino   \n",
       "\n",
       "  estado_del_contacto  \n",
       "0             Cerrado  \n",
       "1             Cerrado  \n",
       "2             Cerrado  \n",
       "3             Abierto  \n",
       "4             Cerrado  \n",
       "5             Cerrado  "
      ]
     },
     "execution_count": 3,
     "metadata": {},
     "output_type": "execute_result"
    }
   ],
   "source": [
    "#Se importan los datos\n",
    "path_data = \"datos/sistema-unico-de-atencion-ciudadana-2020.csv\"\n",
    "columnas= [\"contacto\", \"periodo\",\"categoria\",\"subcategoria\",\"concepto\",\"tipo_prestacion\",\n",
    "           \"domicilio_cgpc\",\"domicilio_barrio\",\"canal\",\"genero\",\"estado_del_contacto\"]\n",
    "\n",
    "df = pd.read_csv(path_data, usecols=columnas)\n",
    "df.head(6)"
   ]
  },
  {
   "cell_type": "markdown",
   "id": "1b0fb59b",
   "metadata": {
    "slideshow": {
     "slide_type": "slide"
    }
   },
   "source": [
    "## 2. Exploración de Datos\n",
    "Se revisan los datos cargados para su posterior limpieza y análisis."
   ]
  },
  {
   "cell_type": "code",
   "execution_count": 7,
   "id": "0e7c4076",
   "metadata": {
    "scrolled": true,
    "slideshow": {
     "slide_type": "fragment"
    }
   },
   "outputs": [
    {
     "data": {
      "text/html": [
       "<div>\n",
       "<style scoped>\n",
       "    .dataframe tbody tr th:only-of-type {\n",
       "        vertical-align: middle;\n",
       "    }\n",
       "\n",
       "    .dataframe tbody tr th {\n",
       "        vertical-align: top;\n",
       "    }\n",
       "\n",
       "    .dataframe thead th {\n",
       "        text-align: right;\n",
       "    }\n",
       "</style>\n",
       "<table border=\"1\" class=\"dataframe\">\n",
       "  <thead>\n",
       "    <tr style=\"text-align: right;\">\n",
       "      <th></th>\n",
       "      <th>contacto</th>\n",
       "      <th>periodo</th>\n",
       "      <th>categoria</th>\n",
       "      <th>subcategoria</th>\n",
       "      <th>concepto</th>\n",
       "      <th>tipo_prestacion</th>\n",
       "      <th>domicilio_cgpc</th>\n",
       "      <th>domicilio_barrio</th>\n",
       "      <th>canal</th>\n",
       "      <th>genero</th>\n",
       "      <th>estado_del_contacto</th>\n",
       "    </tr>\n",
       "  </thead>\n",
       "  <tbody>\n",
       "    <tr>\n",
       "      <th>425522</th>\n",
       "      <td>00444993/20</td>\n",
       "      <td>202010</td>\n",
       "      <td>TRÁNSITO</td>\n",
       "      <td>DENUNCIA VIAL</td>\n",
       "      <td>VEHÍCULO MAL ESTACIONADO</td>\n",
       "      <td>DENUNCIA</td>\n",
       "      <td>2.0</td>\n",
       "      <td>Recoleta</td>\n",
       "      <td>App BA 147</td>\n",
       "      <td>Femenino</td>\n",
       "      <td>Cerrado</td>\n",
       "    </tr>\n",
       "    <tr>\n",
       "      <th>197155</th>\n",
       "      <td>00209824/20</td>\n",
       "      <td>202003</td>\n",
       "      <td>NaN</td>\n",
       "      <td>NaN</td>\n",
       "      <td>DISTURBIOS - SUBTE</td>\n",
       "      <td>QUEJA</td>\n",
       "      <td>COMUNA 3</td>\n",
       "      <td>BALVANERA</td>\n",
       "      <td>NaN</td>\n",
       "      <td>Femenino</td>\n",
       "      <td>Cerrado</td>\n",
       "    </tr>\n",
       "    <tr>\n",
       "      <th>6563</th>\n",
       "      <td>00006852/20</td>\n",
       "      <td>202001</td>\n",
       "      <td>NaN</td>\n",
       "      <td>NaN</td>\n",
       "      <td>INCONVENIENTES CON EL RETIRO/DEVOLUCIÓN DE LA ...</td>\n",
       "      <td>QUEJA</td>\n",
       "      <td>COMUNA 14</td>\n",
       "      <td>PALERMO</td>\n",
       "      <td>147</td>\n",
       "      <td>Femenino</td>\n",
       "      <td>Cerrado</td>\n",
       "    </tr>\n",
       "    <tr>\n",
       "      <th>367004</th>\n",
       "      <td>00386958/20</td>\n",
       "      <td>202008</td>\n",
       "      <td>LIMPIEZA Y RECOLECCIÓN</td>\n",
       "      <td>RESIDUOS VOLUMINOSOS</td>\n",
       "      <td>RETIRO DE ESCOMBROS / RESTOS DE OBRA</td>\n",
       "      <td>SERVICIO</td>\n",
       "      <td>12.0</td>\n",
       "      <td>Villa Pueyrredon</td>\n",
       "      <td>App BA 147</td>\n",
       "      <td>Masculino</td>\n",
       "      <td>Cerrado</td>\n",
       "    </tr>\n",
       "    <tr>\n",
       "      <th>448755</th>\n",
       "      <td>00468013/20</td>\n",
       "      <td>202010</td>\n",
       "      <td>ARBOLADO Y ESPACIOS VERDES</td>\n",
       "      <td>PODA DE ÁRBOL Y DESPEJE DE LUMINARIA</td>\n",
       "      <td>PODA DE ÁRBOL/DESPEJE DE LUMINARIA O SEMÁFORO</td>\n",
       "      <td>SOLICITUD</td>\n",
       "      <td>13.0</td>\n",
       "      <td>Colegiales</td>\n",
       "      <td>GCS Web</td>\n",
       "      <td>Masculino</td>\n",
       "      <td>Abierto</td>\n",
       "    </tr>\n",
       "    <tr>\n",
       "      <th>526529</th>\n",
       "      <td>00546608/20</td>\n",
       "      <td>202012</td>\n",
       "      <td>LIMPIEZA Y RECOLECCIÓN</td>\n",
       "      <td>RESIDUOS VOLUMINOSOS</td>\n",
       "      <td>RETIRO DE ESCOMBROS / RESTOS DE OBRA</td>\n",
       "      <td>SERVICIO</td>\n",
       "      <td>1.0</td>\n",
       "      <td>San Nicolas</td>\n",
       "      <td>App BA 147</td>\n",
       "      <td>Masculino</td>\n",
       "      <td>Cerrado</td>\n",
       "    </tr>\n",
       "    <tr>\n",
       "      <th>42498</th>\n",
       "      <td>00044477/20</td>\n",
       "      <td>202001</td>\n",
       "      <td>CALLES Y VEREDAS</td>\n",
       "      <td>REPARACIÓN DE VEREDA</td>\n",
       "      <td>REPARACIÓN DE VEREDA POR RAÍCES DE ÁRBOL QUE P...</td>\n",
       "      <td>SOLICITUD</td>\n",
       "      <td>COMUNA 9</td>\n",
       "      <td>MATADEROS</td>\n",
       "      <td>Web</td>\n",
       "      <td>Femenino</td>\n",
       "      <td>Cerrado</td>\n",
       "    </tr>\n",
       "  </tbody>\n",
       "</table>\n",
       "</div>"
      ],
      "text/plain": [
       "           contacto  periodo                   categoria  \\\n",
       "425522  00444993/20   202010                    TRÁNSITO   \n",
       "197155  00209824/20   202003                         NaN   \n",
       "6563    00006852/20   202001                         NaN   \n",
       "367004  00386958/20   202008      LIMPIEZA Y RECOLECCIÓN   \n",
       "448755  00468013/20   202010  ARBOLADO Y ESPACIOS VERDES   \n",
       "526529  00546608/20   202012      LIMPIEZA Y RECOLECCIÓN   \n",
       "42498   00044477/20   202001            CALLES Y VEREDAS   \n",
       "\n",
       "                                subcategoria  \\\n",
       "425522                         DENUNCIA VIAL   \n",
       "197155                                   NaN   \n",
       "6563                                     NaN   \n",
       "367004                  RESIDUOS VOLUMINOSOS   \n",
       "448755  PODA DE ÁRBOL Y DESPEJE DE LUMINARIA   \n",
       "526529                  RESIDUOS VOLUMINOSOS   \n",
       "42498                   REPARACIÓN DE VEREDA   \n",
       "\n",
       "                                                 concepto tipo_prestacion  \\\n",
       "425522                           VEHÍCULO MAL ESTACIONADO        DENUNCIA   \n",
       "197155                                 DISTURBIOS - SUBTE           QUEJA   \n",
       "6563    INCONVENIENTES CON EL RETIRO/DEVOLUCIÓN DE LA ...           QUEJA   \n",
       "367004               RETIRO DE ESCOMBROS / RESTOS DE OBRA        SERVICIO   \n",
       "448755      PODA DE ÁRBOL/DESPEJE DE LUMINARIA O SEMÁFORO       SOLICITUD   \n",
       "526529               RETIRO DE ESCOMBROS / RESTOS DE OBRA        SERVICIO   \n",
       "42498   REPARACIÓN DE VEREDA POR RAÍCES DE ÁRBOL QUE P...       SOLICITUD   \n",
       "\n",
       "       domicilio_cgpc  domicilio_barrio       canal     genero  \\\n",
       "425522            2.0          Recoleta  App BA 147   Femenino   \n",
       "197155       COMUNA 3         BALVANERA         NaN   Femenino   \n",
       "6563        COMUNA 14           PALERMO         147   Femenino   \n",
       "367004           12.0  Villa Pueyrredon  App BA 147  Masculino   \n",
       "448755           13.0        Colegiales     GCS Web  Masculino   \n",
       "526529            1.0       San Nicolas  App BA 147  Masculino   \n",
       "42498        COMUNA 9         MATADEROS         Web   Femenino   \n",
       "\n",
       "       estado_del_contacto  \n",
       "425522             Cerrado  \n",
       "197155             Cerrado  \n",
       "6563               Cerrado  \n",
       "367004             Cerrado  \n",
       "448755             Abierto  \n",
       "526529             Cerrado  \n",
       "42498              Cerrado  "
      ]
     },
     "execution_count": 7,
     "metadata": {},
     "output_type": "execute_result"
    }
   ],
   "source": [
    "df.sample(7)"
   ]
  },
  {
   "cell_type": "markdown",
   "id": "b7f53087",
   "metadata": {
    "slideshow": {
     "slide_type": "fragment"
    }
   },
   "source": [
    "- Se deberán corregir los valores perdidos de algunas variables para que no figuren como NaN. \n",
    "- También se deben unificar los nombres de las comunas de la variable domicilio_cgpc\n"
   ]
  },
  {
   "cell_type": "code",
   "execution_count": 4,
   "id": "d4e5f446",
   "metadata": {
    "scrolled": true,
    "slideshow": {
     "slide_type": "subslide"
    }
   },
   "outputs": [
    {
     "name": "stdout",
     "output_type": "stream",
     "text": [
      "<class 'pandas.core.frame.DataFrame'>\n",
      "RangeIndex: 574435 entries, 0 to 574434\n",
      "Data columns (total 11 columns):\n",
      " #   Column               Non-Null Count   Dtype \n",
      "---  ------               --------------   ----- \n",
      " 0   contacto             574435 non-null  object\n",
      " 1   periodo              574435 non-null  int64 \n",
      " 2   categoria            390489 non-null  object\n",
      " 3   subcategoria         388729 non-null  object\n",
      " 4   concepto             574435 non-null  object\n",
      " 5   tipo_prestacion      574435 non-null  object\n",
      " 6   domicilio_cgpc       551318 non-null  object\n",
      " 7   domicilio_barrio     551305 non-null  object\n",
      " 8   canal                520035 non-null  object\n",
      " 9   genero               501365 non-null  object\n",
      " 10  estado_del_contacto  574435 non-null  object\n",
      "dtypes: int64(1), object(10)\n",
      "memory usage: 48.2+ MB\n"
     ]
    }
   ],
   "source": [
    "df.info()"
   ]
  },
  {
   "cell_type": "markdown",
   "id": "8479c593",
   "metadata": {
    "slideshow": {
     "slide_type": "fragment"
    }
   },
   "source": [
    "\n",
    "_No se registran valores nulos en ninguna de las variables_"
   ]
  },
  {
   "cell_type": "code",
   "execution_count": 5,
   "id": "876a3e26",
   "metadata": {
    "scrolled": false,
    "slideshow": {
     "slide_type": "fragment"
    }
   },
   "outputs": [
    {
     "data": {
      "text/plain": [
       "(574435, 11)"
      ]
     },
     "execution_count": 5,
     "metadata": {},
     "output_type": "execute_result"
    }
   ],
   "source": [
    "df.shape"
   ]
  },
  {
   "cell_type": "code",
   "execution_count": 6,
   "id": "3aa1aa77",
   "metadata": {
    "scrolled": false,
    "slideshow": {
     "slide_type": "subslide"
    }
   },
   "outputs": [
    {
     "data": {
      "text/plain": [
       "contacto               571061\n",
       "periodo                    12\n",
       "categoria                  19\n",
       "subcategoria               71\n",
       "concepto                  287\n",
       "tipo_prestacion             5\n",
       "domicilio_cgpc             45\n",
       "domicilio_barrio           96\n",
       "canal                      14\n",
       "genero                      3\n",
       "estado_del_contacto         2\n",
       "dtype: int64"
      ]
     },
     "execution_count": 6,
     "metadata": {},
     "output_type": "execute_result"
    }
   ],
   "source": [
    "#Se revisan los valores únicos para cada variable\n",
    "df.nunique()"
   ]
  },
  {
   "cell_type": "markdown",
   "id": "b911c1f4",
   "metadata": {
    "slideshow": {
     "slide_type": "fragment"
    }
   },
   "source": [
    "- A partir de los datos del periodo podrían establecerse los meses para poder facilitar el análisis. "
   ]
  },
  {
   "cell_type": "markdown",
   "id": "71a2ba96",
   "metadata": {
    "slideshow": {
     "slide_type": "slide"
    }
   },
   "source": [
    "## 3.Limpieza de los Datos\n",
    "A partir de la información obtenida durante la exploración, se proceden a realizar las siguientes acciones:\n",
    "  - Reemplazar los valores perdidos de las variables.\n",
    "  - Unificar las entradas de los Domicilios por Comuna.\n",
    "  - Agregar una columna que represente al Mes en el cual se realizó el contacto.\n",
    "  - Comprobar si es necesario corregir otras diferencias de formato.\n",
    " "
   ]
  },
  {
   "cell_type": "code",
   "execution_count": 8,
   "id": "5900ace5",
   "metadata": {
    "scrolled": true,
    "slideshow": {
     "slide_type": "subslide"
    }
   },
   "outputs": [
    {
     "data": {
      "text/plain": [
       "array(['TRÁNSITO', 'ARBOLADO Y ESPACIOS VERDES', 'LIMPIEZA Y RECOLECCIÓN',\n",
       "       'FISCALIZACIÓN ACTIVIDADES COMERCIALES',\n",
       "       'RECICLADO Y PROTECCIÓN AMBIENTAL', 'MEDIOS DE TRANSPORTE',\n",
       "       'CONTROL EDILICIO, OBRAS Y CATASTRO', nan, 'PLUVIALES',\n",
       "       'ALUMBRADO', 'ORDENAMIENTO DEL ESPACIO PÚBLICO',\n",
       "       'CALLES Y VEREDAS', 'SEGURIDAD', 'TRÁMITES Y SERVICIOS',\n",
       "       'SALUD Y SERVICIOS SOCIALES', 'BARRIOS EMERGENTES',\n",
       "       'DESARROLLO URBANO', 'TERRENO BALDÍO', 'LOTBA', 'EDUCACION'],\n",
       "      dtype=object)"
      ]
     },
     "execution_count": 8,
     "metadata": {},
     "output_type": "execute_result"
    }
   ],
   "source": [
    "#Se verifican las diferentes categorías y se detecta la presencia de valores perdidos.\n",
    "df.categoria.unique()"
   ]
  },
  {
   "cell_type": "code",
   "execution_count": 12,
   "id": "01c1a04c",
   "metadata": {
    "scrolled": true,
    "slideshow": {
     "slide_type": "subslide"
    }
   },
   "outputs": [
    {
     "data": {
      "text/html": [
       "<div>\n",
       "<style scoped>\n",
       "    .dataframe tbody tr th:only-of-type {\n",
       "        vertical-align: middle;\n",
       "    }\n",
       "\n",
       "    .dataframe tbody tr th {\n",
       "        vertical-align: top;\n",
       "    }\n",
       "\n",
       "    .dataframe thead th {\n",
       "        text-align: right;\n",
       "    }\n",
       "</style>\n",
       "<table border=\"1\" class=\"dataframe\">\n",
       "  <thead>\n",
       "    <tr style=\"text-align: right;\">\n",
       "      <th></th>\n",
       "      <th>contacto</th>\n",
       "      <th>periodo</th>\n",
       "      <th>categoria</th>\n",
       "      <th>subcategoria</th>\n",
       "      <th>concepto</th>\n",
       "      <th>tipo_prestacion</th>\n",
       "      <th>domicilio_cgpc</th>\n",
       "      <th>domicilio_barrio</th>\n",
       "      <th>canal</th>\n",
       "      <th>genero</th>\n",
       "      <th>estado_del_contacto</th>\n",
       "    </tr>\n",
       "  </thead>\n",
       "  <tbody>\n",
       "    <tr>\n",
       "      <th>322305</th>\n",
       "      <td>00341493/20</td>\n",
       "      <td>202007</td>\n",
       "      <td>SIN CATEGORIA</td>\n",
       "      <td>NaN</td>\n",
       "      <td>SERVICIO DE ELECTRICIDAD</td>\n",
       "      <td>SOLICITUD</td>\n",
       "      <td>COMUNA 8</td>\n",
       "      <td>VILLA LUGANO</td>\n",
       "      <td>NaN</td>\n",
       "      <td>NaN</td>\n",
       "      <td>Cerrado</td>\n",
       "    </tr>\n",
       "    <tr>\n",
       "      <th>557344</th>\n",
       "      <td>00575670/20</td>\n",
       "      <td>202012</td>\n",
       "      <td>TRÁNSITO</td>\n",
       "      <td>DENUNCIA VIAL</td>\n",
       "      <td>VEHÍCULO MAL ESTACIONADO</td>\n",
       "      <td>DENUNCIA</td>\n",
       "      <td>15.0</td>\n",
       "      <td>Villa Crespo</td>\n",
       "      <td>App Denuncia Vial</td>\n",
       "      <td>Femenino</td>\n",
       "      <td>Cerrado</td>\n",
       "    </tr>\n",
       "    <tr>\n",
       "      <th>413411</th>\n",
       "      <td>00432666/20</td>\n",
       "      <td>202009</td>\n",
       "      <td>TRÁNSITO</td>\n",
       "      <td>DENUNCIA VIAL</td>\n",
       "      <td>VEHÍCULO MAL ESTACIONADO</td>\n",
       "      <td>DENUNCIA</td>\n",
       "      <td>12.0</td>\n",
       "      <td>Villa Urquiza</td>\n",
       "      <td>App Denuncia Vial</td>\n",
       "      <td>Masculino</td>\n",
       "      <td>Cerrado</td>\n",
       "    </tr>\n",
       "    <tr>\n",
       "      <th>449798</th>\n",
       "      <td>00467919/20</td>\n",
       "      <td>202010</td>\n",
       "      <td>LIMPIEZA Y RECOLECCIÓN</td>\n",
       "      <td>LIMPIEZA DE VÍA PÚBLICA</td>\n",
       "      <td>RECOLECCIÓN DE RESIDUOS FUERA DEL CONTENEDOR</td>\n",
       "      <td>SOLICITUD</td>\n",
       "      <td>11.0</td>\n",
       "      <td>Villa Del Parque</td>\n",
       "      <td>App BA 147</td>\n",
       "      <td>Masculino</td>\n",
       "      <td>Cerrado</td>\n",
       "    </tr>\n",
       "    <tr>\n",
       "      <th>222199</th>\n",
       "      <td>00237016/20</td>\n",
       "      <td>202004</td>\n",
       "      <td>LIMPIEZA Y RECOLECCIÓN</td>\n",
       "      <td>LIMPIEZA DE VÍA PÚBLICA</td>\n",
       "      <td>RECOLECCIÓN DE RESIDUOS FUERA DEL CONTENEDOR</td>\n",
       "      <td>SOLICITUD</td>\n",
       "      <td>COMUNA 13</td>\n",
       "      <td>NUÑEZ</td>\n",
       "      <td>App</td>\n",
       "      <td>Masculino</td>\n",
       "      <td>Cerrado</td>\n",
       "    </tr>\n",
       "    <tr>\n",
       "      <th>178877</th>\n",
       "      <td>00188565/20</td>\n",
       "      <td>202003</td>\n",
       "      <td>SIN CATEGORIA</td>\n",
       "      <td>NaN</td>\n",
       "      <td>DESOBSTRUCCIÓN (VACTOR)</td>\n",
       "      <td>SOLICITUD</td>\n",
       "      <td>COMUNA 4</td>\n",
       "      <td>BARRACAS</td>\n",
       "      <td>NaN</td>\n",
       "      <td>NaN</td>\n",
       "      <td>Cerrado</td>\n",
       "    </tr>\n",
       "    <tr>\n",
       "      <th>242731</th>\n",
       "      <td>00259086/20</td>\n",
       "      <td>202005</td>\n",
       "      <td>SIN CATEGORIA</td>\n",
       "      <td>NaN</td>\n",
       "      <td>DESOBSTRUCCIÓN (VACTOR)</td>\n",
       "      <td>SOLICITUD</td>\n",
       "      <td>COMUNA 7</td>\n",
       "      <td>FLORES</td>\n",
       "      <td>NaN</td>\n",
       "      <td>NaN</td>\n",
       "      <td>Cerrado</td>\n",
       "    </tr>\n",
       "    <tr>\n",
       "      <th>458447</th>\n",
       "      <td>00475814/20</td>\n",
       "      <td>202010</td>\n",
       "      <td>LIMPIEZA Y RECOLECCIÓN</td>\n",
       "      <td>CESTOS Y CONTENEDORES</td>\n",
       "      <td>INSTALACIÓN DE CONTENEDOR</td>\n",
       "      <td>SOLICITUD</td>\n",
       "      <td>12.0</td>\n",
       "      <td>Villa Urquiza</td>\n",
       "      <td>GCS Web</td>\n",
       "      <td>Femenino</td>\n",
       "      <td>Cerrado</td>\n",
       "    </tr>\n",
       "    <tr>\n",
       "      <th>218498</th>\n",
       "      <td>00232906/20</td>\n",
       "      <td>202004</td>\n",
       "      <td>FISCALIZACIÓN ACTIVIDADES COMERCIALES</td>\n",
       "      <td>HABILITACIONES Y PERMISOS</td>\n",
       "      <td>ESTABLECIMIENTO SIN HABILITACIÓN</td>\n",
       "      <td>DENUNCIA</td>\n",
       "      <td>COMUNA 3</td>\n",
       "      <td>SAN CRISTOBAL</td>\n",
       "      <td>Comunas</td>\n",
       "      <td>Femenino</td>\n",
       "      <td>Abierto</td>\n",
       "    </tr>\n",
       "    <tr>\n",
       "      <th>529892</th>\n",
       "      <td>00548670/20</td>\n",
       "      <td>202012</td>\n",
       "      <td>LIMPIEZA Y RECOLECCIÓN</td>\n",
       "      <td>RESIDUOS VOLUMINOSOS</td>\n",
       "      <td>RETIRO DE RESTOS DE JARDINERÍA DOMICILIARIA</td>\n",
       "      <td>SERVICIO</td>\n",
       "      <td>11.0</td>\n",
       "      <td>Villa Devoto</td>\n",
       "      <td>GCS Web</td>\n",
       "      <td>Femenino</td>\n",
       "      <td>Cerrado</td>\n",
       "    </tr>\n",
       "  </tbody>\n",
       "</table>\n",
       "</div>"
      ],
      "text/plain": [
       "           contacto  periodo                              categoria  \\\n",
       "322305  00341493/20   202007                          SIN CATEGORIA   \n",
       "557344  00575670/20   202012                               TRÁNSITO   \n",
       "413411  00432666/20   202009                               TRÁNSITO   \n",
       "449798  00467919/20   202010                 LIMPIEZA Y RECOLECCIÓN   \n",
       "222199  00237016/20   202004                 LIMPIEZA Y RECOLECCIÓN   \n",
       "178877  00188565/20   202003                          SIN CATEGORIA   \n",
       "242731  00259086/20   202005                          SIN CATEGORIA   \n",
       "458447  00475814/20   202010                 LIMPIEZA Y RECOLECCIÓN   \n",
       "218498  00232906/20   202004  FISCALIZACIÓN ACTIVIDADES COMERCIALES   \n",
       "529892  00548670/20   202012                 LIMPIEZA Y RECOLECCIÓN   \n",
       "\n",
       "                     subcategoria  \\\n",
       "322305                        NaN   \n",
       "557344              DENUNCIA VIAL   \n",
       "413411              DENUNCIA VIAL   \n",
       "449798    LIMPIEZA DE VÍA PÚBLICA   \n",
       "222199    LIMPIEZA DE VÍA PÚBLICA   \n",
       "178877                        NaN   \n",
       "242731                        NaN   \n",
       "458447      CESTOS Y CONTENEDORES   \n",
       "218498  HABILITACIONES Y PERMISOS   \n",
       "529892       RESIDUOS VOLUMINOSOS   \n",
       "\n",
       "                                            concepto tipo_prestacion  \\\n",
       "322305                      SERVICIO DE ELECTRICIDAD       SOLICITUD   \n",
       "557344                      VEHÍCULO MAL ESTACIONADO        DENUNCIA   \n",
       "413411                      VEHÍCULO MAL ESTACIONADO        DENUNCIA   \n",
       "449798  RECOLECCIÓN DE RESIDUOS FUERA DEL CONTENEDOR       SOLICITUD   \n",
       "222199  RECOLECCIÓN DE RESIDUOS FUERA DEL CONTENEDOR       SOLICITUD   \n",
       "178877                       DESOBSTRUCCIÓN (VACTOR)       SOLICITUD   \n",
       "242731                       DESOBSTRUCCIÓN (VACTOR)       SOLICITUD   \n",
       "458447                     INSTALACIÓN DE CONTENEDOR       SOLICITUD   \n",
       "218498              ESTABLECIMIENTO SIN HABILITACIÓN        DENUNCIA   \n",
       "529892   RETIRO DE RESTOS DE JARDINERÍA DOMICILIARIA        SERVICIO   \n",
       "\n",
       "       domicilio_cgpc  domicilio_barrio              canal     genero  \\\n",
       "322305       COMUNA 8      VILLA LUGANO                NaN        NaN   \n",
       "557344           15.0      Villa Crespo  App Denuncia Vial   Femenino   \n",
       "413411           12.0     Villa Urquiza  App Denuncia Vial  Masculino   \n",
       "449798           11.0  Villa Del Parque         App BA 147  Masculino   \n",
       "222199      COMUNA 13             NUÑEZ                App  Masculino   \n",
       "178877       COMUNA 4          BARRACAS                NaN        NaN   \n",
       "242731       COMUNA 7            FLORES                NaN        NaN   \n",
       "458447           12.0     Villa Urquiza            GCS Web   Femenino   \n",
       "218498       COMUNA 3     SAN CRISTOBAL            Comunas   Femenino   \n",
       "529892           11.0      Villa Devoto            GCS Web   Femenino   \n",
       "\n",
       "       estado_del_contacto  \n",
       "322305             Cerrado  \n",
       "557344             Cerrado  \n",
       "413411             Cerrado  \n",
       "449798             Cerrado  \n",
       "222199             Cerrado  \n",
       "178877             Cerrado  \n",
       "242731             Cerrado  \n",
       "458447             Cerrado  \n",
       "218498             Abierto  \n",
       "529892             Cerrado  "
      ]
     },
     "execution_count": 12,
     "metadata": {},
     "output_type": "execute_result"
    }
   ],
   "source": [
    "#Se decide reemplazar a los valores perdidos por la leyenda \"SIN CATEGORIA\"\n",
    "\n",
    "df.categoria.fillna('SIN CATEGORIA', inplace=True)\n",
    "df.sample(10)"
   ]
  },
  {
   "cell_type": "markdown",
   "id": "5a610972",
   "metadata": {
    "slideshow": {
     "slide_type": "fragment"
    }
   },
   "source": [
    "_Análogamente, se reemplazan los NaN de las subcategorías por la leyenda \"SIN SUBCATEGORÍAS\""
   ]
  },
  {
   "cell_type": "code",
   "execution_count": 13,
   "id": "d0349539",
   "metadata": {
    "slideshow": {
     "slide_type": "skip"
    }
   },
   "outputs": [
    {
     "data": {
      "text/plain": [
       "array(['TRÁNSITO', 'ARBOLADO Y ESPACIOS VERDES', 'LIMPIEZA Y RECOLECCIÓN',\n",
       "       'FISCALIZACIÓN ACTIVIDADES COMERCIALES',\n",
       "       'RECICLADO Y PROTECCIÓN AMBIENTAL', 'MEDIOS DE TRANSPORTE',\n",
       "       'CONTROL EDILICIO, OBRAS Y CATASTRO', 'SIN CATEGORIA', 'PLUVIALES',\n",
       "       'ALUMBRADO', 'ORDENAMIENTO DEL ESPACIO PÚBLICO',\n",
       "       'CALLES Y VEREDAS', 'SEGURIDAD', 'TRÁMITES Y SERVICIOS',\n",
       "       'SALUD Y SERVICIOS SOCIALES', 'BARRIOS EMERGENTES',\n",
       "       'DESARROLLO URBANO', 'TERRENO BALDÍO', 'LOTBA', 'EDUCACION'],\n",
       "      dtype=object)"
      ]
     },
     "execution_count": 13,
     "metadata": {},
     "output_type": "execute_result"
    }
   ],
   "source": [
    "df.categoria.unique()"
   ]
  },
  {
   "cell_type": "code",
   "execution_count": null,
   "id": "083a2f89",
   "metadata": {
    "scrolled": true,
    "slideshow": {
     "slide_type": "skip"
    }
   },
   "outputs": [],
   "source": [
    "df.subcategoria.unique()"
   ]
  },
  {
   "cell_type": "code",
   "execution_count": 14,
   "id": "36f72d7a",
   "metadata": {
    "slideshow": {
     "slide_type": "skip"
    }
   },
   "outputs": [
    {
     "data": {
      "text/html": [
       "<div>\n",
       "<style scoped>\n",
       "    .dataframe tbody tr th:only-of-type {\n",
       "        vertical-align: middle;\n",
       "    }\n",
       "\n",
       "    .dataframe tbody tr th {\n",
       "        vertical-align: top;\n",
       "    }\n",
       "\n",
       "    .dataframe thead th {\n",
       "        text-align: right;\n",
       "    }\n",
       "</style>\n",
       "<table border=\"1\" class=\"dataframe\">\n",
       "  <thead>\n",
       "    <tr style=\"text-align: right;\">\n",
       "      <th></th>\n",
       "      <th>contacto</th>\n",
       "      <th>periodo</th>\n",
       "      <th>categoria</th>\n",
       "      <th>subcategoria</th>\n",
       "      <th>concepto</th>\n",
       "      <th>tipo_prestacion</th>\n",
       "      <th>domicilio_cgpc</th>\n",
       "      <th>domicilio_barrio</th>\n",
       "      <th>canal</th>\n",
       "      <th>genero</th>\n",
       "      <th>estado_del_contacto</th>\n",
       "    </tr>\n",
       "  </thead>\n",
       "  <tbody>\n",
       "    <tr>\n",
       "      <th>0</th>\n",
       "      <td>00000001/20</td>\n",
       "      <td>202001</td>\n",
       "      <td>TRÁNSITO</td>\n",
       "      <td>DENUNCIA VIAL</td>\n",
       "      <td>VEHÍCULO MAL ESTACIONADO</td>\n",
       "      <td>DENUNCIA</td>\n",
       "      <td>COMUNA 6</td>\n",
       "      <td>CABALLITO</td>\n",
       "      <td>Comunas</td>\n",
       "      <td>Femenino</td>\n",
       "      <td>Cerrado</td>\n",
       "    </tr>\n",
       "    <tr>\n",
       "      <th>1</th>\n",
       "      <td>00000002/20</td>\n",
       "      <td>202001</td>\n",
       "      <td>TRÁNSITO</td>\n",
       "      <td>DENUNCIA VIAL</td>\n",
       "      <td>VEHÍCULO MAL ESTACIONADO</td>\n",
       "      <td>DENUNCIA</td>\n",
       "      <td>COMUNA 4</td>\n",
       "      <td>PARQUE PATRICIOS</td>\n",
       "      <td>Comunas</td>\n",
       "      <td>Femenino</td>\n",
       "      <td>Cerrado</td>\n",
       "    </tr>\n",
       "    <tr>\n",
       "      <th>2</th>\n",
       "      <td>00000003/20</td>\n",
       "      <td>202001</td>\n",
       "      <td>ARBOLADO Y ESPACIOS VERDES</td>\n",
       "      <td>PLANTACIÓN DE ÁRBOL</td>\n",
       "      <td>PLANTACIÓN DE ÁRBOL</td>\n",
       "      <td>SOLICITUD</td>\n",
       "      <td>COMUNA 13</td>\n",
       "      <td>COLEGIALES</td>\n",
       "      <td>Comunas</td>\n",
       "      <td>Masculino</td>\n",
       "      <td>Cerrado</td>\n",
       "    </tr>\n",
       "    <tr>\n",
       "      <th>3</th>\n",
       "      <td>00000004/20</td>\n",
       "      <td>202001</td>\n",
       "      <td>ARBOLADO Y ESPACIOS VERDES</td>\n",
       "      <td>PLANTACIÓN DE ÁRBOL</td>\n",
       "      <td>PLANTACIÓN DE ÁRBOL</td>\n",
       "      <td>SOLICITUD</td>\n",
       "      <td>COMUNA 13</td>\n",
       "      <td>COLEGIALES</td>\n",
       "      <td>Comunas</td>\n",
       "      <td>Masculino</td>\n",
       "      <td>Abierto</td>\n",
       "    </tr>\n",
       "    <tr>\n",
       "      <th>4</th>\n",
       "      <td>00000005/20</td>\n",
       "      <td>202001</td>\n",
       "      <td>LIMPIEZA Y RECOLECCIÓN</td>\n",
       "      <td>LIMPIEZA DE VÍA PÚBLICA</td>\n",
       "      <td>RECOLECCIÓN DE RESIDUOS FUERA DEL CONTENEDOR</td>\n",
       "      <td>SOLICITUD</td>\n",
       "      <td>COMUNA 12</td>\n",
       "      <td>COGHLAN</td>\n",
       "      <td>Comunas</td>\n",
       "      <td>Femenino</td>\n",
       "      <td>Cerrado</td>\n",
       "    </tr>\n",
       "    <tr>\n",
       "      <th>...</th>\n",
       "      <td>...</td>\n",
       "      <td>...</td>\n",
       "      <td>...</td>\n",
       "      <td>...</td>\n",
       "      <td>...</td>\n",
       "      <td>...</td>\n",
       "      <td>...</td>\n",
       "      <td>...</td>\n",
       "      <td>...</td>\n",
       "      <td>...</td>\n",
       "      <td>...</td>\n",
       "    </tr>\n",
       "    <tr>\n",
       "      <th>574430</th>\n",
       "      <td>00564129/20</td>\n",
       "      <td>202012</td>\n",
       "      <td>CONTROL EDILICIO, OBRAS Y CATASTRO</td>\n",
       "      <td>CONTROL DE OBRAS</td>\n",
       "      <td>CONSTRUCCIÓN SIN PERMISO</td>\n",
       "      <td>DENUNCIA</td>\n",
       "      <td>10.0</td>\n",
       "      <td>Villa Luro</td>\n",
       "      <td>App BA 147</td>\n",
       "      <td>Masculino</td>\n",
       "      <td>Cerrado</td>\n",
       "    </tr>\n",
       "    <tr>\n",
       "      <th>574431</th>\n",
       "      <td>00593840/20</td>\n",
       "      <td>202012</td>\n",
       "      <td>CONTROL EDILICIO, OBRAS Y CATASTRO</td>\n",
       "      <td>CONTROL DE OBRAS</td>\n",
       "      <td>FALTA DE CARTEL DE PERMISO/AVISO DE OBRA/CONST...</td>\n",
       "      <td>DENUNCIA</td>\n",
       "      <td>10.0</td>\n",
       "      <td>Villa Luro</td>\n",
       "      <td>App BA 147</td>\n",
       "      <td>Masculino</td>\n",
       "      <td>Cerrado</td>\n",
       "    </tr>\n",
       "    <tr>\n",
       "      <th>574432</th>\n",
       "      <td>00554868/20</td>\n",
       "      <td>202012</td>\n",
       "      <td>ARBOLADO Y ESPACIOS VERDES</td>\n",
       "      <td>EXTRACCIÓN DE ÁRBOL</td>\n",
       "      <td>EXTRACCIÓN DE ÁRBOL</td>\n",
       "      <td>SOLICITUD</td>\n",
       "      <td>3.0</td>\n",
       "      <td>San Cristobal</td>\n",
       "      <td>GCS Web</td>\n",
       "      <td>Masculino</td>\n",
       "      <td>Cerrado</td>\n",
       "    </tr>\n",
       "    <tr>\n",
       "      <th>574433</th>\n",
       "      <td>00580083/20</td>\n",
       "      <td>202012</td>\n",
       "      <td>CONTROL EDILICIO, OBRAS Y CATASTRO</td>\n",
       "      <td>CONTROL DE OBRAS</td>\n",
       "      <td>CONSTRUCCIÓN SIN PERMISO</td>\n",
       "      <td>DENUNCIA</td>\n",
       "      <td>9.0</td>\n",
       "      <td>Parque Avellaneda</td>\n",
       "      <td>GCS Web</td>\n",
       "      <td>Masculino</td>\n",
       "      <td>Cerrado</td>\n",
       "    </tr>\n",
       "    <tr>\n",
       "      <th>574434</th>\n",
       "      <td>00584748/20</td>\n",
       "      <td>202012</td>\n",
       "      <td>LIMPIEZA Y RECOLECCIÓN</td>\n",
       "      <td>LIMPIEZA DE VÍA PÚBLICA</td>\n",
       "      <td>DESRATIZAR, DESINSECTAR Y DESINFECTAR EN VÍA P...</td>\n",
       "      <td>SOLICITUD</td>\n",
       "      <td>13.0</td>\n",
       "      <td>Colegiales</td>\n",
       "      <td>App BA 147</td>\n",
       "      <td>Femenino</td>\n",
       "      <td>Abierto</td>\n",
       "    </tr>\n",
       "  </tbody>\n",
       "</table>\n",
       "<p>574435 rows × 11 columns</p>\n",
       "</div>"
      ],
      "text/plain": [
       "           contacto  periodo                           categoria  \\\n",
       "0       00000001/20   202001                            TRÁNSITO   \n",
       "1       00000002/20   202001                            TRÁNSITO   \n",
       "2       00000003/20   202001          ARBOLADO Y ESPACIOS VERDES   \n",
       "3       00000004/20   202001          ARBOLADO Y ESPACIOS VERDES   \n",
       "4       00000005/20   202001              LIMPIEZA Y RECOLECCIÓN   \n",
       "...             ...      ...                                 ...   \n",
       "574430  00564129/20   202012  CONTROL EDILICIO, OBRAS Y CATASTRO   \n",
       "574431  00593840/20   202012  CONTROL EDILICIO, OBRAS Y CATASTRO   \n",
       "574432  00554868/20   202012          ARBOLADO Y ESPACIOS VERDES   \n",
       "574433  00580083/20   202012  CONTROL EDILICIO, OBRAS Y CATASTRO   \n",
       "574434  00584748/20   202012              LIMPIEZA Y RECOLECCIÓN   \n",
       "\n",
       "                   subcategoria  \\\n",
       "0                 DENUNCIA VIAL   \n",
       "1                 DENUNCIA VIAL   \n",
       "2           PLANTACIÓN DE ÁRBOL   \n",
       "3           PLANTACIÓN DE ÁRBOL   \n",
       "4       LIMPIEZA DE VÍA PÚBLICA   \n",
       "...                         ...   \n",
       "574430         CONTROL DE OBRAS   \n",
       "574431         CONTROL DE OBRAS   \n",
       "574432      EXTRACCIÓN DE ÁRBOL   \n",
       "574433         CONTROL DE OBRAS   \n",
       "574434  LIMPIEZA DE VÍA PÚBLICA   \n",
       "\n",
       "                                                 concepto tipo_prestacion  \\\n",
       "0                                VEHÍCULO MAL ESTACIONADO        DENUNCIA   \n",
       "1                                VEHÍCULO MAL ESTACIONADO        DENUNCIA   \n",
       "2                                     PLANTACIÓN DE ÁRBOL       SOLICITUD   \n",
       "3                                     PLANTACIÓN DE ÁRBOL       SOLICITUD   \n",
       "4            RECOLECCIÓN DE RESIDUOS FUERA DEL CONTENEDOR       SOLICITUD   \n",
       "...                                                   ...             ...   \n",
       "574430                           CONSTRUCCIÓN SIN PERMISO        DENUNCIA   \n",
       "574431  FALTA DE CARTEL DE PERMISO/AVISO DE OBRA/CONST...        DENUNCIA   \n",
       "574432                                EXTRACCIÓN DE ÁRBOL       SOLICITUD   \n",
       "574433                           CONSTRUCCIÓN SIN PERMISO        DENUNCIA   \n",
       "574434  DESRATIZAR, DESINSECTAR Y DESINFECTAR EN VÍA P...       SOLICITUD   \n",
       "\n",
       "       domicilio_cgpc   domicilio_barrio       canal     genero  \\\n",
       "0            COMUNA 6          CABALLITO     Comunas   Femenino   \n",
       "1            COMUNA 4   PARQUE PATRICIOS     Comunas   Femenino   \n",
       "2           COMUNA 13         COLEGIALES     Comunas  Masculino   \n",
       "3           COMUNA 13         COLEGIALES     Comunas  Masculino   \n",
       "4           COMUNA 12            COGHLAN     Comunas   Femenino   \n",
       "...               ...                ...         ...        ...   \n",
       "574430           10.0         Villa Luro  App BA 147  Masculino   \n",
       "574431           10.0         Villa Luro  App BA 147  Masculino   \n",
       "574432            3.0      San Cristobal     GCS Web  Masculino   \n",
       "574433            9.0  Parque Avellaneda     GCS Web  Masculino   \n",
       "574434           13.0         Colegiales  App BA 147   Femenino   \n",
       "\n",
       "       estado_del_contacto  \n",
       "0                  Cerrado  \n",
       "1                  Cerrado  \n",
       "2                  Cerrado  \n",
       "3                  Abierto  \n",
       "4                  Cerrado  \n",
       "...                    ...  \n",
       "574430             Cerrado  \n",
       "574431             Cerrado  \n",
       "574432             Cerrado  \n",
       "574433             Cerrado  \n",
       "574434             Abierto  \n",
       "\n",
       "[574435 rows x 11 columns]"
      ]
     },
     "execution_count": 14,
     "metadata": {},
     "output_type": "execute_result"
    }
   ],
   "source": [
    "df.subcategoria.fillna('SIN SUBCATEGORIA', inplace=True)\n",
    "df"
   ]
  },
  {
   "cell_type": "code",
   "execution_count": null,
   "id": "92ae0e64",
   "metadata": {
    "slideshow": {
     "slide_type": "skip"
    }
   },
   "outputs": [],
   "source": [
    "df.subcategoria.unique()"
   ]
  },
  {
   "cell_type": "code",
   "execution_count": null,
   "id": "f0c50caa",
   "metadata": {
    "slideshow": {
     "slide_type": "skip"
    }
   },
   "outputs": [],
   "source": [
    "df.concepto.unique()"
   ]
  },
  {
   "cell_type": "code",
   "execution_count": null,
   "id": "400d846f",
   "metadata": {
    "slideshow": {
     "slide_type": "skip"
    }
   },
   "outputs": [],
   "source": [
    "df.tipo_prestacion.unique()"
   ]
  },
  {
   "cell_type": "code",
   "execution_count": 20,
   "id": "e8b11525",
   "metadata": {
    "slideshow": {
     "slide_type": "subslide"
    }
   },
   "outputs": [
    {
     "data": {
      "text/plain": [
       "array(['COMUNA 6', 'COMUNA 4', 'COMUNA 13', 'COMUNA 12', 'COMUNA 5',\n",
       "       'COMUNA 7', 'COMUNA 14', 'COMUNA 10', 'COMUNA 9', 'COMUNA 1',\n",
       "       'COMUNA 11', 'COMUNA 8', 'COMUNA 15', nan, 'COMUNA 3', 'COMUNA 2',\n",
       "       '9.0', '12.0', '4.0', '2.0', '7.0', '10.0', '14.0', '15.0', '11.0',\n",
       "       '3.0', '13.0', '8.0', '5.0', '1.0', '6.0', 1.0, 7.0, 11.0, 12.0,\n",
       "       6.0, 4.0, 9.0, 15.0, 5.0, 10.0, 3.0, 14.0, 13.0, 2.0, 8.0],\n",
       "      dtype=object)"
      ]
     },
     "execution_count": 20,
     "metadata": {},
     "output_type": "execute_result"
    }
   ],
   "source": [
    "#Se revisan las diferentes valores ingresados para las comunas \n",
    "\n",
    "df.domicilio_cgpc.unique()"
   ]
  },
  {
   "cell_type": "code",
   "execution_count": 21,
   "id": "28c3b728",
   "metadata": {
    "slideshow": {
     "slide_type": "skip"
    }
   },
   "outputs": [
    {
     "data": {
      "text/html": [
       "<div>\n",
       "<style scoped>\n",
       "    .dataframe tbody tr th:only-of-type {\n",
       "        vertical-align: middle;\n",
       "    }\n",
       "\n",
       "    .dataframe tbody tr th {\n",
       "        vertical-align: top;\n",
       "    }\n",
       "\n",
       "    .dataframe thead th {\n",
       "        text-align: right;\n",
       "    }\n",
       "</style>\n",
       "<table border=\"1\" class=\"dataframe\">\n",
       "  <thead>\n",
       "    <tr style=\"text-align: right;\">\n",
       "      <th></th>\n",
       "      <th>contacto</th>\n",
       "      <th>periodo</th>\n",
       "      <th>categoria</th>\n",
       "      <th>subcategoria</th>\n",
       "      <th>concepto</th>\n",
       "      <th>tipo_prestacion</th>\n",
       "      <th>domicilio_cgpc</th>\n",
       "      <th>domicilio_barrio</th>\n",
       "      <th>canal</th>\n",
       "      <th>genero</th>\n",
       "      <th>estado_del_contacto</th>\n",
       "    </tr>\n",
       "  </thead>\n",
       "  <tbody>\n",
       "    <tr>\n",
       "      <th>574426</th>\n",
       "      <td>00584865/20</td>\n",
       "      <td>202012</td>\n",
       "      <td>CONTROL EDILICIO, OBRAS Y CATASTRO</td>\n",
       "      <td>CONTROL DE OBRAS</td>\n",
       "      <td>ALTURA ANTIRREGLAMENTARIA EN OBRAS Y CONSTRUCC...</td>\n",
       "      <td>DENUNCIA</td>\n",
       "      <td>9.0</td>\n",
       "      <td>Mataderos</td>\n",
       "      <td>GCS Web</td>\n",
       "      <td>MASCULINO</td>\n",
       "      <td>Cerrado</td>\n",
       "    </tr>\n",
       "    <tr>\n",
       "      <th>574427</th>\n",
       "      <td>00590845/20</td>\n",
       "      <td>202012</td>\n",
       "      <td>TRÁNSITO</td>\n",
       "      <td>VEHÍCULOS ABANDONADOS</td>\n",
       "      <td>REMOCIÓN DE VEHÍCULO / AUTO ABANDONADO</td>\n",
       "      <td>SOLICITUD</td>\n",
       "      <td>15.0</td>\n",
       "      <td>Chacarita</td>\n",
       "      <td>Mail 147</td>\n",
       "      <td>MASCULINO</td>\n",
       "      <td>Cerrado</td>\n",
       "    </tr>\n",
       "    <tr>\n",
       "      <th>574428</th>\n",
       "      <td>00577568/20</td>\n",
       "      <td>202012</td>\n",
       "      <td>ARBOLADO Y ESPACIOS VERDES</td>\n",
       "      <td>EXTRACCIÓN DE ÁRBOL</td>\n",
       "      <td>EXTRACCIÓN DE ÁRBOL</td>\n",
       "      <td>SOLICITUD</td>\n",
       "      <td>11.0</td>\n",
       "      <td>Villa Santa Rita</td>\n",
       "      <td>GCS Web</td>\n",
       "      <td>MASCULINO</td>\n",
       "      <td>Cerrado</td>\n",
       "    </tr>\n",
       "    <tr>\n",
       "      <th>574429</th>\n",
       "      <td>00572861/20</td>\n",
       "      <td>202012</td>\n",
       "      <td>CONTROL EDILICIO, OBRAS Y CATASTRO</td>\n",
       "      <td>CONTROL DE OBRAS</td>\n",
       "      <td>CONSTRUCCIÓN SIN PERMISO</td>\n",
       "      <td>DENUNCIA</td>\n",
       "      <td>10.0</td>\n",
       "      <td>Villa Luro</td>\n",
       "      <td>App BA 147</td>\n",
       "      <td>FEMENINO</td>\n",
       "      <td>Cerrado</td>\n",
       "    </tr>\n",
       "    <tr>\n",
       "      <th>574430</th>\n",
       "      <td>00564129/20</td>\n",
       "      <td>202012</td>\n",
       "      <td>CONTROL EDILICIO, OBRAS Y CATASTRO</td>\n",
       "      <td>CONTROL DE OBRAS</td>\n",
       "      <td>CONSTRUCCIÓN SIN PERMISO</td>\n",
       "      <td>DENUNCIA</td>\n",
       "      <td>10.0</td>\n",
       "      <td>Villa Luro</td>\n",
       "      <td>App BA 147</td>\n",
       "      <td>MASCULINO</td>\n",
       "      <td>Cerrado</td>\n",
       "    </tr>\n",
       "    <tr>\n",
       "      <th>574431</th>\n",
       "      <td>00593840/20</td>\n",
       "      <td>202012</td>\n",
       "      <td>CONTROL EDILICIO, OBRAS Y CATASTRO</td>\n",
       "      <td>CONTROL DE OBRAS</td>\n",
       "      <td>FALTA DE CARTEL DE PERMISO/AVISO DE OBRA/CONST...</td>\n",
       "      <td>DENUNCIA</td>\n",
       "      <td>10.0</td>\n",
       "      <td>Villa Luro</td>\n",
       "      <td>App BA 147</td>\n",
       "      <td>MASCULINO</td>\n",
       "      <td>Cerrado</td>\n",
       "    </tr>\n",
       "    <tr>\n",
       "      <th>574432</th>\n",
       "      <td>00554868/20</td>\n",
       "      <td>202012</td>\n",
       "      <td>ARBOLADO Y ESPACIOS VERDES</td>\n",
       "      <td>EXTRACCIÓN DE ÁRBOL</td>\n",
       "      <td>EXTRACCIÓN DE ÁRBOL</td>\n",
       "      <td>SOLICITUD</td>\n",
       "      <td>3.0</td>\n",
       "      <td>San Cristobal</td>\n",
       "      <td>GCS Web</td>\n",
       "      <td>MASCULINO</td>\n",
       "      <td>Cerrado</td>\n",
       "    </tr>\n",
       "    <tr>\n",
       "      <th>574433</th>\n",
       "      <td>00580083/20</td>\n",
       "      <td>202012</td>\n",
       "      <td>CONTROL EDILICIO, OBRAS Y CATASTRO</td>\n",
       "      <td>CONTROL DE OBRAS</td>\n",
       "      <td>CONSTRUCCIÓN SIN PERMISO</td>\n",
       "      <td>DENUNCIA</td>\n",
       "      <td>9.0</td>\n",
       "      <td>Parque Avellaneda</td>\n",
       "      <td>GCS Web</td>\n",
       "      <td>MASCULINO</td>\n",
       "      <td>Cerrado</td>\n",
       "    </tr>\n",
       "    <tr>\n",
       "      <th>574434</th>\n",
       "      <td>00584748/20</td>\n",
       "      <td>202012</td>\n",
       "      <td>LIMPIEZA Y RECOLECCIÓN</td>\n",
       "      <td>LIMPIEZA DE VÍA PÚBLICA</td>\n",
       "      <td>DESRATIZAR, DESINSECTAR Y DESINFECTAR EN VÍA P...</td>\n",
       "      <td>SOLICITUD</td>\n",
       "      <td>13.0</td>\n",
       "      <td>Colegiales</td>\n",
       "      <td>App BA 147</td>\n",
       "      <td>FEMENINO</td>\n",
       "      <td>Abierto</td>\n",
       "    </tr>\n",
       "  </tbody>\n",
       "</table>\n",
       "</div>"
      ],
      "text/plain": [
       "           contacto  periodo                           categoria  \\\n",
       "574426  00584865/20   202012  CONTROL EDILICIO, OBRAS Y CATASTRO   \n",
       "574427  00590845/20   202012                            TRÁNSITO   \n",
       "574428  00577568/20   202012          ARBOLADO Y ESPACIOS VERDES   \n",
       "574429  00572861/20   202012  CONTROL EDILICIO, OBRAS Y CATASTRO   \n",
       "574430  00564129/20   202012  CONTROL EDILICIO, OBRAS Y CATASTRO   \n",
       "574431  00593840/20   202012  CONTROL EDILICIO, OBRAS Y CATASTRO   \n",
       "574432  00554868/20   202012          ARBOLADO Y ESPACIOS VERDES   \n",
       "574433  00580083/20   202012  CONTROL EDILICIO, OBRAS Y CATASTRO   \n",
       "574434  00584748/20   202012              LIMPIEZA Y RECOLECCIÓN   \n",
       "\n",
       "                   subcategoria  \\\n",
       "574426         CONTROL DE OBRAS   \n",
       "574427    VEHÍCULOS ABANDONADOS   \n",
       "574428      EXTRACCIÓN DE ÁRBOL   \n",
       "574429         CONTROL DE OBRAS   \n",
       "574430         CONTROL DE OBRAS   \n",
       "574431         CONTROL DE OBRAS   \n",
       "574432      EXTRACCIÓN DE ÁRBOL   \n",
       "574433         CONTROL DE OBRAS   \n",
       "574434  LIMPIEZA DE VÍA PÚBLICA   \n",
       "\n",
       "                                                 concepto tipo_prestacion  \\\n",
       "574426  ALTURA ANTIRREGLAMENTARIA EN OBRAS Y CONSTRUCC...        DENUNCIA   \n",
       "574427             REMOCIÓN DE VEHÍCULO / AUTO ABANDONADO       SOLICITUD   \n",
       "574428                                EXTRACCIÓN DE ÁRBOL       SOLICITUD   \n",
       "574429                           CONSTRUCCIÓN SIN PERMISO        DENUNCIA   \n",
       "574430                           CONSTRUCCIÓN SIN PERMISO        DENUNCIA   \n",
       "574431  FALTA DE CARTEL DE PERMISO/AVISO DE OBRA/CONST...        DENUNCIA   \n",
       "574432                                EXTRACCIÓN DE ÁRBOL       SOLICITUD   \n",
       "574433                           CONSTRUCCIÓN SIN PERMISO        DENUNCIA   \n",
       "574434  DESRATIZAR, DESINSECTAR Y DESINFECTAR EN VÍA P...       SOLICITUD   \n",
       "\n",
       "       domicilio_cgpc   domicilio_barrio       canal     genero  \\\n",
       "574426            9.0          Mataderos     GCS Web  MASCULINO   \n",
       "574427           15.0          Chacarita    Mail 147  MASCULINO   \n",
       "574428           11.0   Villa Santa Rita     GCS Web  MASCULINO   \n",
       "574429           10.0         Villa Luro  App BA 147   FEMENINO   \n",
       "574430           10.0         Villa Luro  App BA 147  MASCULINO   \n",
       "574431           10.0         Villa Luro  App BA 147  MASCULINO   \n",
       "574432            3.0      San Cristobal     GCS Web  MASCULINO   \n",
       "574433            9.0  Parque Avellaneda     GCS Web  MASCULINO   \n",
       "574434           13.0         Colegiales  App BA 147   FEMENINO   \n",
       "\n",
       "       estado_del_contacto  \n",
       "574426             Cerrado  \n",
       "574427             Cerrado  \n",
       "574428             Cerrado  \n",
       "574429             Cerrado  \n",
       "574430             Cerrado  \n",
       "574431             Cerrado  \n",
       "574432             Cerrado  \n",
       "574433             Cerrado  \n",
       "574434             Abierto  "
      ]
     },
     "execution_count": 21,
     "metadata": {},
     "output_type": "execute_result"
    }
   ],
   "source": [
    "df.tail(9)"
   ]
  },
  {
   "cell_type": "code",
   "execution_count": 24,
   "id": "e89f3880",
   "metadata": {
    "slideshow": {
     "slide_type": "fragment"
    }
   },
   "outputs": [
    {
     "data": {
      "text/html": [
       "<div>\n",
       "<style scoped>\n",
       "    .dataframe tbody tr th:only-of-type {\n",
       "        vertical-align: middle;\n",
       "    }\n",
       "\n",
       "    .dataframe tbody tr th {\n",
       "        vertical-align: top;\n",
       "    }\n",
       "\n",
       "    .dataframe thead th {\n",
       "        text-align: right;\n",
       "    }\n",
       "</style>\n",
       "<table border=\"1\" class=\"dataframe\">\n",
       "  <thead>\n",
       "    <tr style=\"text-align: right;\">\n",
       "      <th></th>\n",
       "      <th>contacto</th>\n",
       "      <th>periodo</th>\n",
       "      <th>categoria</th>\n",
       "      <th>subcategoria</th>\n",
       "      <th>concepto</th>\n",
       "      <th>tipo_prestacion</th>\n",
       "      <th>domicilio_cgpc</th>\n",
       "      <th>domicilio_barrio</th>\n",
       "      <th>canal</th>\n",
       "      <th>genero</th>\n",
       "      <th>estado_del_contacto</th>\n",
       "    </tr>\n",
       "  </thead>\n",
       "  <tbody>\n",
       "    <tr>\n",
       "      <th>236443</th>\n",
       "      <td>00252208/20</td>\n",
       "      <td>202005</td>\n",
       "      <td>TRÁNSITO</td>\n",
       "      <td>DENUNCIA VIAL</td>\n",
       "      <td>VEHÍCULO MAL ESTACIONADO</td>\n",
       "      <td>DENUNCIA</td>\n",
       "      <td>COMUNA 12</td>\n",
       "      <td>VILLA URQUIZA</td>\n",
       "      <td>Comunas</td>\n",
       "      <td>MASCULINO</td>\n",
       "      <td>Cerrado</td>\n",
       "    </tr>\n",
       "    <tr>\n",
       "      <th>463521</th>\n",
       "      <td>00482718/20</td>\n",
       "      <td>202010</td>\n",
       "      <td>LIMPIEZA Y RECOLECCIÓN</td>\n",
       "      <td>RESIDUOS VOLUMINOSOS</td>\n",
       "      <td>RETIRO DE ESCOMBROS / RESTOS DE OBRA</td>\n",
       "      <td>SERVICIO</td>\n",
       "      <td>12.0</td>\n",
       "      <td>Villa Urquiza</td>\n",
       "      <td>App BA 147</td>\n",
       "      <td>FEMENINO</td>\n",
       "      <td>Cerrado</td>\n",
       "    </tr>\n",
       "    <tr>\n",
       "      <th>567620</th>\n",
       "      <td>00587627/20</td>\n",
       "      <td>202012</td>\n",
       "      <td>LIMPIEZA Y RECOLECCIÓN</td>\n",
       "      <td>RESIDUOS VOLUMINOSOS</td>\n",
       "      <td>RETIRO DE ESCOMBROS / RESTOS DE OBRA</td>\n",
       "      <td>SERVICIO</td>\n",
       "      <td>7.0</td>\n",
       "      <td>Flores</td>\n",
       "      <td>GCS Web</td>\n",
       "      <td>MASCULINO</td>\n",
       "      <td>Cerrado</td>\n",
       "    </tr>\n",
       "    <tr>\n",
       "      <th>296569</th>\n",
       "      <td>00315351/20</td>\n",
       "      <td>202006</td>\n",
       "      <td>TRÁNSITO</td>\n",
       "      <td>DENUNCIA VIAL</td>\n",
       "      <td>VEHÍCULO MAL ESTACIONADO</td>\n",
       "      <td>DENUNCIA</td>\n",
       "      <td>COMUNA 8</td>\n",
       "      <td>VILLA LUGANO</td>\n",
       "      <td>Comunas</td>\n",
       "      <td>MASCULINO</td>\n",
       "      <td>Cerrado</td>\n",
       "    </tr>\n",
       "  </tbody>\n",
       "</table>\n",
       "</div>"
      ],
      "text/plain": [
       "           contacto  periodo               categoria          subcategoria  \\\n",
       "236443  00252208/20   202005                TRÁNSITO         DENUNCIA VIAL   \n",
       "463521  00482718/20   202010  LIMPIEZA Y RECOLECCIÓN  RESIDUOS VOLUMINOSOS   \n",
       "567620  00587627/20   202012  LIMPIEZA Y RECOLECCIÓN  RESIDUOS VOLUMINOSOS   \n",
       "296569  00315351/20   202006                TRÁNSITO         DENUNCIA VIAL   \n",
       "\n",
       "                                    concepto tipo_prestacion domicilio_cgpc  \\\n",
       "236443              VEHÍCULO MAL ESTACIONADO        DENUNCIA      COMUNA 12   \n",
       "463521  RETIRO DE ESCOMBROS / RESTOS DE OBRA        SERVICIO           12.0   \n",
       "567620  RETIRO DE ESCOMBROS / RESTOS DE OBRA        SERVICIO            7.0   \n",
       "296569              VEHÍCULO MAL ESTACIONADO        DENUNCIA       COMUNA 8   \n",
       "\n",
       "       domicilio_barrio       canal     genero estado_del_contacto  \n",
       "236443    VILLA URQUIZA     Comunas  MASCULINO             Cerrado  \n",
       "463521    Villa Urquiza  App BA 147   FEMENINO             Cerrado  \n",
       "567620           Flores     GCS Web  MASCULINO             Cerrado  \n",
       "296569     VILLA LUGANO     Comunas  MASCULINO             Cerrado  "
      ]
     },
     "execution_count": 24,
     "metadata": {},
     "output_type": "execute_result"
    }
   ],
   "source": [
    "#Se reemplazan los valores de la variable por los nombres de las comunas\n",
    "\n",
    "df.domicilio_cgpc=df.domicilio_cgpc.replace(to_replace=['9.0','12.0','4.0','2.0','7.0','10.0','14.0','15.0',\n",
    "                                      '11.0','3.0','13.0','8.0','5.0','1.0','6.0'],\n",
    "                          value=['COMUNA 9','COMUNA 12','COMUNA 4','COMUNA 2','COMUNA 7','COMUNA 10','COMUNA 14','COMUNA 15',\n",
    "                                 'COMUNA 11','COMUNA 3','COMUNA 13','COMUNA 8','COMUNA 5','COMUNA 1','COMUNA 6'])\n",
    "df.sample(4)"
   ]
  },
  {
   "cell_type": "code",
   "execution_count": 26,
   "id": "d7481353",
   "metadata": {
    "slideshow": {
     "slide_type": "subslide"
    }
   },
   "outputs": [],
   "source": [
    "#Se reemplazan los valores numéricos faltantes\n",
    "df.domicilio_cgpc=df.domicilio_cgpc.replace(to_replace=[1.0,7.0,11.0,12.0,6.0,4.0,9.0,15.0,\n",
    "                                      5.0,10.0,3.0,14.0,13.0,2.0,8.0],\n",
    "                          value=['COMUNA 1','COMUNA 7','COMUNA 11','COMUNA 12','COMUNA 6','COMUNA 4','COMUNA 9','COMUNA 15',\n",
    "                                 'COMUNA 5','COMUNA 10','COMUNA 3','COMUNA 14','COMUNA 13','COMUNA 2','COMUNA 8'])"
   ]
  },
  {
   "cell_type": "code",
   "execution_count": 30,
   "id": "0bef2aa0",
   "metadata": {
    "scrolled": true,
    "slideshow": {
     "slide_type": "fragment"
    }
   },
   "outputs": [],
   "source": [
    "#Se reemplazan los valores perdidos por \"SIN COMUNA\"\n",
    "df.domicilio_cgpc.fillna('SIN COMUNA', inplace=True)"
   ]
  },
  {
   "cell_type": "code",
   "execution_count": 31,
   "id": "da87b713",
   "metadata": {
    "slideshow": {
     "slide_type": "fragment"
    }
   },
   "outputs": [
    {
     "data": {
      "text/plain": [
       "array(['COMUNA 6', 'COMUNA 4', 'COMUNA 13', 'COMUNA 12', 'COMUNA 5',\n",
       "       'COMUNA 7', 'COMUNA 14', 'COMUNA 10', 'COMUNA 9', 'COMUNA 1',\n",
       "       'COMUNA 11', 'COMUNA 8', 'COMUNA 15', 'SIN COMUNA', 'COMUNA 3',\n",
       "       'COMUNA 2'], dtype=object)"
      ]
     },
     "execution_count": 31,
     "metadata": {},
     "output_type": "execute_result"
    }
   ],
   "source": [
    "df.domicilio_cgpc.unique()"
   ]
  },
  {
   "cell_type": "code",
   "execution_count": null,
   "id": "81f104a1",
   "metadata": {
    "slideshow": {
     "slide_type": "skip"
    }
   },
   "outputs": [],
   "source": [
    "df.domicilio_barrio.unique()"
   ]
  },
  {
   "cell_type": "code",
   "execution_count": null,
   "id": "8f4d9b40",
   "metadata": {
    "slideshow": {
     "slide_type": "skip"
    }
   },
   "outputs": [],
   "source": [
    "df.canal.unique()"
   ]
  },
  {
   "cell_type": "code",
   "execution_count": 15,
   "id": "a2c52fcf",
   "metadata": {
    "slideshow": {
     "slide_type": "subslide"
    }
   },
   "outputs": [
    {
     "data": {
      "text/plain": [
       "array(['Femenino', 'Masculino', nan, 'Otros'], dtype=object)"
      ]
     },
     "execution_count": 15,
     "metadata": {},
     "output_type": "execute_result"
    }
   ],
   "source": [
    "#Se revisan los valores de la variable género\n",
    "\n",
    "df.genero.unique()"
   ]
  },
  {
   "cell_type": "code",
   "execution_count": 32,
   "id": "9300766e",
   "metadata": {
    "slideshow": {
     "slide_type": "fragment"
    }
   },
   "outputs": [],
   "source": [
    "#Se reemplazan los valores perdidos por la categoría \"SIN GENERO\"\n",
    "\n",
    "df.genero.fillna('SIN GENERO', inplace=True)"
   ]
  },
  {
   "cell_type": "code",
   "execution_count": 19,
   "id": "0f4bf4e0",
   "metadata": {
    "slideshow": {
     "slide_type": "fragment"
    }
   },
   "outputs": [
    {
     "data": {
      "text/plain": [
       "0          FEMENINO\n",
       "1          FEMENINO\n",
       "2         MASCULINO\n",
       "3         MASCULINO\n",
       "4          FEMENINO\n",
       "            ...    \n",
       "574430    MASCULINO\n",
       "574431    MASCULINO\n",
       "574432    MASCULINO\n",
       "574433    MASCULINO\n",
       "574434     FEMENINO\n",
       "Name: genero, Length: 574435, dtype: object"
      ]
     },
     "execution_count": 19,
     "metadata": {},
     "output_type": "execute_result"
    }
   ],
   "source": [
    "#Se unifica el formato de las categorías\n",
    "\n",
    "df.genero=df.genero.str.upper()\n",
    "df.genero"
   ]
  },
  {
   "cell_type": "code",
   "execution_count": 33,
   "id": "156fb692",
   "metadata": {
    "slideshow": {
     "slide_type": "subslide"
    }
   },
   "outputs": [
    {
     "data": {
      "text/plain": [
       "array([202001, 202002, 202003, 202004, 202005, 202006, 202007, 202008,\n",
       "       202009, 202010, 202011, 202012], dtype=int64)"
      ]
     },
     "execution_count": 33,
     "metadata": {},
     "output_type": "execute_result"
    }
   ],
   "source": [
    "df.periodo.unique()"
   ]
  },
  {
   "cell_type": "code",
   "execution_count": 34,
   "id": "abfd03c5",
   "metadata": {
    "slideshow": {
     "slide_type": "fragment"
    }
   },
   "outputs": [
    {
     "data": {
      "text/plain": [
       "array(['01', '02', '03', '04', '05', '06', '07', '08', '09', '10', '11',\n",
       "       '12'], dtype=object)"
      ]
     },
     "execution_count": 34,
     "metadata": {},
     "output_type": "execute_result"
    }
   ],
   "source": [
    "#Se modifica el formato del periodo para poder crear la variable mes\n",
    "df['mes'] = df.periodo.astype(str).str[-2:]\n",
    "\n",
    "df.mes.unique()"
   ]
  },
  {
   "cell_type": "code",
   "execution_count": 36,
   "id": "a4e03430",
   "metadata": {
    "slideshow": {
     "slide_type": "fragment"
    }
   },
   "outputs": [
    {
     "data": {
      "text/html": [
       "<div>\n",
       "<style scoped>\n",
       "    .dataframe tbody tr th:only-of-type {\n",
       "        vertical-align: middle;\n",
       "    }\n",
       "\n",
       "    .dataframe tbody tr th {\n",
       "        vertical-align: top;\n",
       "    }\n",
       "\n",
       "    .dataframe thead th {\n",
       "        text-align: right;\n",
       "    }\n",
       "</style>\n",
       "<table border=\"1\" class=\"dataframe\">\n",
       "  <thead>\n",
       "    <tr style=\"text-align: right;\">\n",
       "      <th></th>\n",
       "      <th>contacto</th>\n",
       "      <th>periodo</th>\n",
       "      <th>categoria</th>\n",
       "      <th>subcategoria</th>\n",
       "      <th>concepto</th>\n",
       "      <th>tipo_prestacion</th>\n",
       "      <th>domicilio_cgpc</th>\n",
       "      <th>domicilio_barrio</th>\n",
       "      <th>canal</th>\n",
       "      <th>genero</th>\n",
       "      <th>estado_del_contacto</th>\n",
       "      <th>mes</th>\n",
       "    </tr>\n",
       "  </thead>\n",
       "  <tbody>\n",
       "    <tr>\n",
       "      <th>218172</th>\n",
       "      <td>00232534/20</td>\n",
       "      <td>202004</td>\n",
       "      <td>LIMPIEZA Y RECOLECCIÓN</td>\n",
       "      <td>CESTOS Y CONTENEDORES</td>\n",
       "      <td>VACIADO DE CAMPANA VERDE</td>\n",
       "      <td>SOLICITUD</td>\n",
       "      <td>COMUNA 3</td>\n",
       "      <td>SAN CRISTOBAL</td>\n",
       "      <td>Comunas</td>\n",
       "      <td>FEMENINO</td>\n",
       "      <td>Cerrado</td>\n",
       "      <td>Abril</td>\n",
       "    </tr>\n",
       "    <tr>\n",
       "      <th>135153</th>\n",
       "      <td>00140693/20</td>\n",
       "      <td>202002</td>\n",
       "      <td>TRÁNSITO</td>\n",
       "      <td>VEHÍCULOS ABANDONADOS</td>\n",
       "      <td>REMOCIÓN DE VEHÍCULO / AUTO ABANDONADO</td>\n",
       "      <td>SOLICITUD</td>\n",
       "      <td>COMUNA 15</td>\n",
       "      <td>VILLA CRESPO</td>\n",
       "      <td>Comunas</td>\n",
       "      <td>MASCULINO</td>\n",
       "      <td>Cerrado</td>\n",
       "      <td>Febrero</td>\n",
       "    </tr>\n",
       "    <tr>\n",
       "      <th>120725</th>\n",
       "      <td>00125701/20</td>\n",
       "      <td>202002</td>\n",
       "      <td>SIN CATEGORIA</td>\n",
       "      <td>SIN SUBCATEGORIA</td>\n",
       "      <td>INCONVENIENTES CON EL RETIRO/DEVOLUCIÓN DE LA ...</td>\n",
       "      <td>QUEJA</td>\n",
       "      <td>COMUNA 6</td>\n",
       "      <td>CABALLITO</td>\n",
       "      <td>147</td>\n",
       "      <td>MASCULINO</td>\n",
       "      <td>Cerrado</td>\n",
       "      <td>Febrero</td>\n",
       "    </tr>\n",
       "    <tr>\n",
       "      <th>298653</th>\n",
       "      <td>00317478/20</td>\n",
       "      <td>202006</td>\n",
       "      <td>TRÁNSITO</td>\n",
       "      <td>DENUNCIA VIAL</td>\n",
       "      <td>VEHÍCULO MAL ESTACIONADO</td>\n",
       "      <td>DENUNCIA</td>\n",
       "      <td>COMUNA 11</td>\n",
       "      <td>VILLA SANTA RITA</td>\n",
       "      <td>Comunas</td>\n",
       "      <td>MASCULINO</td>\n",
       "      <td>Cerrado</td>\n",
       "      <td>Junio</td>\n",
       "    </tr>\n",
       "  </tbody>\n",
       "</table>\n",
       "</div>"
      ],
      "text/plain": [
       "           contacto  periodo               categoria           subcategoria  \\\n",
       "218172  00232534/20   202004  LIMPIEZA Y RECOLECCIÓN  CESTOS Y CONTENEDORES   \n",
       "135153  00140693/20   202002                TRÁNSITO  VEHÍCULOS ABANDONADOS   \n",
       "120725  00125701/20   202002           SIN CATEGORIA       SIN SUBCATEGORIA   \n",
       "298653  00317478/20   202006                TRÁNSITO          DENUNCIA VIAL   \n",
       "\n",
       "                                                 concepto tipo_prestacion  \\\n",
       "218172                           VACIADO DE CAMPANA VERDE       SOLICITUD   \n",
       "135153             REMOCIÓN DE VEHÍCULO / AUTO ABANDONADO       SOLICITUD   \n",
       "120725  INCONVENIENTES CON EL RETIRO/DEVOLUCIÓN DE LA ...           QUEJA   \n",
       "298653                           VEHÍCULO MAL ESTACIONADO        DENUNCIA   \n",
       "\n",
       "       domicilio_cgpc  domicilio_barrio    canal     genero  \\\n",
       "218172       COMUNA 3     SAN CRISTOBAL  Comunas   FEMENINO   \n",
       "135153      COMUNA 15      VILLA CRESPO  Comunas  MASCULINO   \n",
       "120725       COMUNA 6         CABALLITO      147  MASCULINO   \n",
       "298653      COMUNA 11  VILLA SANTA RITA  Comunas  MASCULINO   \n",
       "\n",
       "       estado_del_contacto      mes  \n",
       "218172             Cerrado    Abril  \n",
       "135153             Cerrado  Febrero  \n",
       "120725             Cerrado  Febrero  \n",
       "298653             Cerrado    Junio  "
      ]
     },
     "execution_count": 36,
     "metadata": {},
     "output_type": "execute_result"
    }
   ],
   "source": [
    "#Se reemplazan los valores de la variable por los nombres de los meses\n",
    "\n",
    "df.mes=df.mes.replace(to_replace=['01','02','03','04','05','06','07','08','09','10','11','12'],value=['Enero','Febrero','Marzo','Abril','Mayo','Junio','Julio','Agosto','Septiembre','Octubre','Noviembre','Diciembre'])\n",
    "df.sample(4)"
   ]
  },
  {
   "cell_type": "code",
   "execution_count": 37,
   "id": "662c3c85",
   "metadata": {
    "slideshow": {
     "slide_type": "skip"
    }
   },
   "outputs": [],
   "source": [
    "df.to_csv('datos/suaci_limpio.csv')"
   ]
  },
  {
   "cell_type": "markdown",
   "id": "706f4638",
   "metadata": {
    "slideshow": {
     "slide_type": "slide"
    }
   },
   "source": [
    "## 4. Presentación de Datos\n",
    "\n",
    "A continuación, se presentan algunos de los principales cuadros y gráficos realizados."
   ]
  },
  {
   "cell_type": "code",
   "execution_count": 40,
   "id": "8db53f87",
   "metadata": {
    "slideshow": {
     "slide_type": "fragment"
    }
   },
   "outputs": [
    {
     "data": {
      "text/html": [
       "<div>\n",
       "<style scoped>\n",
       "    .dataframe tbody tr th:only-of-type {\n",
       "        vertical-align: middle;\n",
       "    }\n",
       "\n",
       "    .dataframe tbody tr th {\n",
       "        vertical-align: top;\n",
       "    }\n",
       "\n",
       "    .dataframe thead th {\n",
       "        text-align: right;\n",
       "    }\n",
       "</style>\n",
       "<table border=\"1\" class=\"dataframe\">\n",
       "  <thead>\n",
       "    <tr style=\"text-align: right;\">\n",
       "      <th></th>\n",
       "      <th>Categoria</th>\n",
       "      <th>Cantidad</th>\n",
       "    </tr>\n",
       "  </thead>\n",
       "  <tbody>\n",
       "    <tr>\n",
       "      <th>0</th>\n",
       "      <td>SIN CATEGORIA</td>\n",
       "      <td>183946</td>\n",
       "    </tr>\n",
       "    <tr>\n",
       "      <th>1</th>\n",
       "      <td>TRÁNSITO</td>\n",
       "      <td>120118</td>\n",
       "    </tr>\n",
       "    <tr>\n",
       "      <th>2</th>\n",
       "      <td>LIMPIEZA Y RECOLECCIÓN</td>\n",
       "      <td>116375</td>\n",
       "    </tr>\n",
       "    <tr>\n",
       "      <th>3</th>\n",
       "      <td>CALLES Y VEREDAS</td>\n",
       "      <td>29681</td>\n",
       "    </tr>\n",
       "    <tr>\n",
       "      <th>4</th>\n",
       "      <td>ARBOLADO Y ESPACIOS VERDES</td>\n",
       "      <td>28909</td>\n",
       "    </tr>\n",
       "    <tr>\n",
       "      <th>5</th>\n",
       "      <td>RECICLADO Y PROTECCIÓN AMBIENTAL</td>\n",
       "      <td>15719</td>\n",
       "    </tr>\n",
       "    <tr>\n",
       "      <th>6</th>\n",
       "      <td>ALUMBRADO</td>\n",
       "      <td>15704</td>\n",
       "    </tr>\n",
       "    <tr>\n",
       "      <th>7</th>\n",
       "      <td>ORDENAMIENTO DEL ESPACIO PÚBLICO</td>\n",
       "      <td>15091</td>\n",
       "    </tr>\n",
       "    <tr>\n",
       "      <th>8</th>\n",
       "      <td>MEDIOS DE TRANSPORTE</td>\n",
       "      <td>12808</td>\n",
       "    </tr>\n",
       "    <tr>\n",
       "      <th>9</th>\n",
       "      <td>FISCALIZACIÓN ACTIVIDADES COMERCIALES</td>\n",
       "      <td>10377</td>\n",
       "    </tr>\n",
       "    <tr>\n",
       "      <th>10</th>\n",
       "      <td>CONTROL EDILICIO, OBRAS Y CATASTRO</td>\n",
       "      <td>9553</td>\n",
       "    </tr>\n",
       "    <tr>\n",
       "      <th>11</th>\n",
       "      <td>TRÁMITES Y SERVICIOS</td>\n",
       "      <td>8289</td>\n",
       "    </tr>\n",
       "    <tr>\n",
       "      <th>12</th>\n",
       "      <td>BARRIOS EMERGENTES</td>\n",
       "      <td>3810</td>\n",
       "    </tr>\n",
       "    <tr>\n",
       "      <th>13</th>\n",
       "      <td>PLUVIALES</td>\n",
       "      <td>2128</td>\n",
       "    </tr>\n",
       "    <tr>\n",
       "      <th>14</th>\n",
       "      <td>SEGURIDAD</td>\n",
       "      <td>1085</td>\n",
       "    </tr>\n",
       "    <tr>\n",
       "      <th>15</th>\n",
       "      <td>SALUD Y SERVICIOS SOCIALES</td>\n",
       "      <td>559</td>\n",
       "    </tr>\n",
       "    <tr>\n",
       "      <th>16</th>\n",
       "      <td>DESARROLLO URBANO</td>\n",
       "      <td>147</td>\n",
       "    </tr>\n",
       "    <tr>\n",
       "      <th>17</th>\n",
       "      <td>TERRENO BALDÍO</td>\n",
       "      <td>95</td>\n",
       "    </tr>\n",
       "    <tr>\n",
       "      <th>18</th>\n",
       "      <td>LOTBA</td>\n",
       "      <td>34</td>\n",
       "    </tr>\n",
       "    <tr>\n",
       "      <th>19</th>\n",
       "      <td>EDUCACION</td>\n",
       "      <td>7</td>\n",
       "    </tr>\n",
       "  </tbody>\n",
       "</table>\n",
       "</div>"
      ],
      "text/plain": [
       "                                Categoria  Cantidad\n",
       "0                           SIN CATEGORIA    183946\n",
       "1                                TRÁNSITO    120118\n",
       "2                  LIMPIEZA Y RECOLECCIÓN    116375\n",
       "3                        CALLES Y VEREDAS     29681\n",
       "4              ARBOLADO Y ESPACIOS VERDES     28909\n",
       "5        RECICLADO Y PROTECCIÓN AMBIENTAL     15719\n",
       "6                               ALUMBRADO     15704\n",
       "7        ORDENAMIENTO DEL ESPACIO PÚBLICO     15091\n",
       "8                    MEDIOS DE TRANSPORTE     12808\n",
       "9   FISCALIZACIÓN ACTIVIDADES COMERCIALES     10377\n",
       "10     CONTROL EDILICIO, OBRAS Y CATASTRO      9553\n",
       "11                   TRÁMITES Y SERVICIOS      8289\n",
       "12                     BARRIOS EMERGENTES      3810\n",
       "13                              PLUVIALES      2128\n",
       "14                              SEGURIDAD      1085\n",
       "15             SALUD Y SERVICIOS SOCIALES       559\n",
       "16                      DESARROLLO URBANO       147\n",
       "17                         TERRENO BALDÍO        95\n",
       "18                                  LOTBA        34\n",
       "19                              EDUCACION         7"
      ]
     },
     "execution_count": 40,
     "metadata": {},
     "output_type": "execute_result"
    }
   ],
   "source": [
    "#Se analizan las frecuencias de la variable categoría\n",
    "\n",
    "df_categoria = pd.DataFrame({\"Categoria\": df[\"categoria\"].value_counts().index,\n",
    "                                  \"Cantidad\": df[\"categoria\"].value_counts().values\n",
    "                                 })\n",
    "df_categoria"
   ]
  },
  {
   "cell_type": "code",
   "execution_count": 41,
   "id": "c31a7b20",
   "metadata": {
    "slideshow": {
     "slide_type": "subslide"
    }
   },
   "outputs": [
    {
     "data": {
      "text/html": [
       "<div>\n",
       "<style scoped>\n",
       "    .dataframe tbody tr th:only-of-type {\n",
       "        vertical-align: middle;\n",
       "    }\n",
       "\n",
       "    .dataframe tbody tr th {\n",
       "        vertical-align: top;\n",
       "    }\n",
       "\n",
       "    .dataframe thead th {\n",
       "        text-align: right;\n",
       "    }\n",
       "</style>\n",
       "<table border=\"1\" class=\"dataframe\">\n",
       "  <thead>\n",
       "    <tr style=\"text-align: right;\">\n",
       "      <th></th>\n",
       "      <th>Subcategoria</th>\n",
       "      <th>Cantidad</th>\n",
       "    </tr>\n",
       "  </thead>\n",
       "  <tbody>\n",
       "    <tr>\n",
       "      <th>0</th>\n",
       "      <td>SIN SUBCATEGORIA</td>\n",
       "      <td>185706</td>\n",
       "    </tr>\n",
       "    <tr>\n",
       "      <th>1</th>\n",
       "      <td>DENUNCIA VIAL</td>\n",
       "      <td>108336</td>\n",
       "    </tr>\n",
       "    <tr>\n",
       "      <th>2</th>\n",
       "      <td>RESIDUOS VOLUMINOSOS</td>\n",
       "      <td>70768</td>\n",
       "    </tr>\n",
       "    <tr>\n",
       "      <th>3</th>\n",
       "      <td>CESTOS Y CONTENEDORES</td>\n",
       "      <td>26913</td>\n",
       "    </tr>\n",
       "    <tr>\n",
       "      <th>4</th>\n",
       "      <td>LIMPIEZA DE VÍA PÚBLICA</td>\n",
       "      <td>18018</td>\n",
       "    </tr>\n",
       "    <tr>\n",
       "      <th>...</th>\n",
       "      <td>...</td>\n",
       "      <td>...</td>\n",
       "    </tr>\n",
       "    <tr>\n",
       "      <th>67</th>\n",
       "      <td>DESAGOTE</td>\n",
       "      <td>13</td>\n",
       "    </tr>\n",
       "    <tr>\n",
       "      <th>68</th>\n",
       "      <td>MANTENIMIENTO ESTABLECIMIENTOS EDUCATIVOS</td>\n",
       "      <td>7</td>\n",
       "    </tr>\n",
       "    <tr>\n",
       "      <th>69</th>\n",
       "      <td>PROBLEMAS CON PERSONAL POLICIAL</td>\n",
       "      <td>6</td>\n",
       "    </tr>\n",
       "    <tr>\n",
       "      <th>70</th>\n",
       "      <td>CARTEL INDICADOR DE CALLES</td>\n",
       "      <td>2</td>\n",
       "    </tr>\n",
       "    <tr>\n",
       "      <th>71</th>\n",
       "      <td>ADMINISTRATIVA Y LEGAL</td>\n",
       "      <td>1</td>\n",
       "    </tr>\n",
       "  </tbody>\n",
       "</table>\n",
       "<p>72 rows × 2 columns</p>\n",
       "</div>"
      ],
      "text/plain": [
       "                                 Subcategoria  Cantidad\n",
       "0                            SIN SUBCATEGORIA    185706\n",
       "1                               DENUNCIA VIAL    108336\n",
       "2                        RESIDUOS VOLUMINOSOS     70768\n",
       "3                       CESTOS Y CONTENEDORES     26913\n",
       "4                     LIMPIEZA DE VÍA PÚBLICA     18018\n",
       "..                                        ...       ...\n",
       "67                                   DESAGOTE        13\n",
       "68  MANTENIMIENTO ESTABLECIMIENTOS EDUCATIVOS         7\n",
       "69            PROBLEMAS CON PERSONAL POLICIAL         6\n",
       "70                 CARTEL INDICADOR DE CALLES         2\n",
       "71                     ADMINISTRATIVA Y LEGAL         1\n",
       "\n",
       "[72 rows x 2 columns]"
      ]
     },
     "execution_count": 41,
     "metadata": {},
     "output_type": "execute_result"
    }
   ],
   "source": [
    "#Se realiza el conteo de las subcategorías\n",
    "\n",
    "subcategoria = pd.Series(df['subcategoria'])\n",
    "df_subcategoria = pd.DataFrame({\"Subcategoria\": subcategoria.str.upper().value_counts().index,\n",
    "                                     \"Cantidad\": subcategoria.str.upper().value_counts().values\n",
    "                                   })\n",
    "df_subcategoria"
   ]
  },
  {
   "cell_type": "code",
   "execution_count": 42,
   "id": "245312fa",
   "metadata": {
    "slideshow": {
     "slide_type": "subslide"
    }
   },
   "outputs": [
    {
     "data": {
      "text/html": [
       "<div>\n",
       "<style scoped>\n",
       "    .dataframe tbody tr th:only-of-type {\n",
       "        vertical-align: middle;\n",
       "    }\n",
       "\n",
       "    .dataframe tbody tr th {\n",
       "        vertical-align: top;\n",
       "    }\n",
       "\n",
       "    .dataframe thead th {\n",
       "        text-align: right;\n",
       "    }\n",
       "</style>\n",
       "<table border=\"1\" class=\"dataframe\">\n",
       "  <thead>\n",
       "    <tr style=\"text-align: right;\">\n",
       "      <th></th>\n",
       "      <th>Tipo Prestacion</th>\n",
       "      <th>Cantidad</th>\n",
       "    </tr>\n",
       "  </thead>\n",
       "  <tbody>\n",
       "    <tr>\n",
       "      <th>0</th>\n",
       "      <td>SOLICITUD</td>\n",
       "      <td>219153</td>\n",
       "    </tr>\n",
       "    <tr>\n",
       "      <th>1</th>\n",
       "      <td>DENUNCIA</td>\n",
       "      <td>142717</td>\n",
       "    </tr>\n",
       "    <tr>\n",
       "      <th>2</th>\n",
       "      <td>SERVICIO</td>\n",
       "      <td>140192</td>\n",
       "    </tr>\n",
       "    <tr>\n",
       "      <th>3</th>\n",
       "      <td>QUEJA</td>\n",
       "      <td>68126</td>\n",
       "    </tr>\n",
       "    <tr>\n",
       "      <th>4</th>\n",
       "      <td>REPORTE</td>\n",
       "      <td>4247</td>\n",
       "    </tr>\n",
       "  </tbody>\n",
       "</table>\n",
       "</div>"
      ],
      "text/plain": [
       "  Tipo Prestacion  Cantidad\n",
       "0       SOLICITUD    219153\n",
       "1        DENUNCIA    142717\n",
       "2        SERVICIO    140192\n",
       "3           QUEJA     68126\n",
       "4         REPORTE      4247"
      ]
     },
     "execution_count": 42,
     "metadata": {},
     "output_type": "execute_result"
    }
   ],
   "source": [
    "# Se realizan las frecuencias del Tipo de Contacto realizado \n",
    "\n",
    "tipo_prestacion= pd.Series(df['tipo_prestacion'])\n",
    "df_tipo_prestacion = pd.DataFrame({\"Tipo Prestacion\": tipo_prestacion.str.upper().value_counts().index,\n",
    "                                    \"Cantidad\": tipo_prestacion.str.upper().value_counts().values\n",
    "                                   })\n",
    "df_tipo_prestacion"
   ]
  },
  {
   "cell_type": "code",
   "execution_count": 43,
   "id": "bc59d333",
   "metadata": {
    "slideshow": {
     "slide_type": "fragment"
    }
   },
   "outputs": [
    {
     "data": {
      "text/html": [
       "<div>\n",
       "<style scoped>\n",
       "    .dataframe tbody tr th:only-of-type {\n",
       "        vertical-align: middle;\n",
       "    }\n",
       "\n",
       "    .dataframe tbody tr th {\n",
       "        vertical-align: top;\n",
       "    }\n",
       "\n",
       "    .dataframe thead th {\n",
       "        text-align: right;\n",
       "    }\n",
       "</style>\n",
       "<table border=\"1\" class=\"dataframe\">\n",
       "  <thead>\n",
       "    <tr style=\"text-align: right;\">\n",
       "      <th></th>\n",
       "      <th>Tipo Prestacion</th>\n",
       "      <th>Porcentaje</th>\n",
       "    </tr>\n",
       "  </thead>\n",
       "  <tbody>\n",
       "    <tr>\n",
       "      <th>0</th>\n",
       "      <td>SOLICITUD</td>\n",
       "      <td>38.15</td>\n",
       "    </tr>\n",
       "    <tr>\n",
       "      <th>1</th>\n",
       "      <td>DENUNCIA</td>\n",
       "      <td>24.84</td>\n",
       "    </tr>\n",
       "    <tr>\n",
       "      <th>2</th>\n",
       "      <td>SERVICIO</td>\n",
       "      <td>24.41</td>\n",
       "    </tr>\n",
       "    <tr>\n",
       "      <th>3</th>\n",
       "      <td>QUEJA</td>\n",
       "      <td>11.86</td>\n",
       "    </tr>\n",
       "    <tr>\n",
       "      <th>4</th>\n",
       "      <td>REPORTE</td>\n",
       "      <td>0.74</td>\n",
       "    </tr>\n",
       "  </tbody>\n",
       "</table>\n",
       "</div>"
      ],
      "text/plain": [
       "  Tipo Prestacion  Porcentaje\n",
       "0       SOLICITUD       38.15\n",
       "1        DENUNCIA       24.84\n",
       "2        SERVICIO       24.41\n",
       "3           QUEJA       11.86\n",
       "4         REPORTE        0.74"
      ]
     },
     "execution_count": 43,
     "metadata": {},
     "output_type": "execute_result"
    }
   ],
   "source": [
    "df_porc_tipo_prest = pd.DataFrame({\"Tipo Prestacion\": tipo_prestacion.str.upper().value_counts().index,\n",
    "                                    \"Porcentaje\": round(tipo_prestacion.str.upper().value_counts(normalize=True)*100,2).values\n",
    "                                  })\n",
    "df_porc_tipo_prest"
   ]
  },
  {
   "cell_type": "code",
   "execution_count": 44,
   "id": "04e02c03",
   "metadata": {
    "slideshow": {
     "slide_type": "subslide"
    }
   },
   "outputs": [
    {
     "data": {
      "image/png": "[encoded data removed]",
      "text/plain": [
       "<Figure size 720x360 with 1 Axes>"
      ]
     },
     "metadata": {
      "needs_background": "light"
     },
     "output_type": "display_data"
    }
   ],
   "source": [
    "plt.figure(figsize=(10,5))\n",
    "sns.countplot(data = df,\n",
    "              x = \"tipo_prestacion\", \n",
    "              order = tipo_prestacion.str.upper().value_counts().index)\n",
    "plt.show()"
   ]
  },
  {
   "cell_type": "code",
   "execution_count": 45,
   "id": "f535dfc6",
   "metadata": {
    "slideshow": {
     "slide_type": "subslide"
    }
   },
   "outputs": [
    {
     "data": {
      "text/html": [
       "<div>\n",
       "<style scoped>\n",
       "    .dataframe tbody tr th:only-of-type {\n",
       "        vertical-align: middle;\n",
       "    }\n",
       "\n",
       "    .dataframe tbody tr th {\n",
       "        vertical-align: top;\n",
       "    }\n",
       "\n",
       "    .dataframe thead th {\n",
       "        text-align: right;\n",
       "    }\n",
       "</style>\n",
       "<table border=\"1\" class=\"dataframe\">\n",
       "  <thead>\n",
       "    <tr style=\"text-align: right;\">\n",
       "      <th></th>\n",
       "      <th>Mes</th>\n",
       "      <th>Cantidad</th>\n",
       "    </tr>\n",
       "  </thead>\n",
       "  <tbody>\n",
       "    <tr>\n",
       "      <th>0</th>\n",
       "      <td>Enero</td>\n",
       "      <td>75441</td>\n",
       "    </tr>\n",
       "    <tr>\n",
       "      <th>1</th>\n",
       "      <td>Febrero</td>\n",
       "      <td>73133</td>\n",
       "    </tr>\n",
       "    <tr>\n",
       "      <th>2</th>\n",
       "      <td>Marzo</td>\n",
       "      <td>64408</td>\n",
       "    </tr>\n",
       "    <tr>\n",
       "      <th>3</th>\n",
       "      <td>Noviembre</td>\n",
       "      <td>51777</td>\n",
       "    </tr>\n",
       "    <tr>\n",
       "      <th>4</th>\n",
       "      <td>Octubre</td>\n",
       "      <td>49549</td>\n",
       "    </tr>\n",
       "    <tr>\n",
       "      <th>5</th>\n",
       "      <td>Diciembre</td>\n",
       "      <td>48884</td>\n",
       "    </tr>\n",
       "    <tr>\n",
       "      <th>6</th>\n",
       "      <td>Septiembre</td>\n",
       "      <td>44106</td>\n",
       "    </tr>\n",
       "    <tr>\n",
       "      <th>7</th>\n",
       "      <td>Agosto</td>\n",
       "      <td>39474</td>\n",
       "    </tr>\n",
       "    <tr>\n",
       "      <th>8</th>\n",
       "      <td>Junio</td>\n",
       "      <td>36422</td>\n",
       "    </tr>\n",
       "    <tr>\n",
       "      <th>9</th>\n",
       "      <td>Mayo</td>\n",
       "      <td>35481</td>\n",
       "    </tr>\n",
       "    <tr>\n",
       "      <th>10</th>\n",
       "      <td>Julio</td>\n",
       "      <td>33362</td>\n",
       "    </tr>\n",
       "    <tr>\n",
       "      <th>11</th>\n",
       "      <td>Abril</td>\n",
       "      <td>22398</td>\n",
       "    </tr>\n",
       "  </tbody>\n",
       "</table>\n",
       "</div>"
      ],
      "text/plain": [
       "           Mes  Cantidad\n",
       "0        Enero     75441\n",
       "1      Febrero     73133\n",
       "2        Marzo     64408\n",
       "3    Noviembre     51777\n",
       "4      Octubre     49549\n",
       "5    Diciembre     48884\n",
       "6   Septiembre     44106\n",
       "7       Agosto     39474\n",
       "8        Junio     36422\n",
       "9         Mayo     35481\n",
       "10       Julio     33362\n",
       "11       Abril     22398"
      ]
     },
     "execution_count": 45,
     "metadata": {},
     "output_type": "execute_result"
    }
   ],
   "source": [
    "#Se realiza la tabla de los Contactos por Mes\n",
    "\n",
    "df_mes = pd.DataFrame({\"Mes\": df[\"mes\"].value_counts().index,\n",
    "                           \"Cantidad\": df[\"mes\"].value_counts().values\n",
    "                          })\n",
    "df_mes"
   ]
  },
  {
   "cell_type": "code",
   "execution_count": 46,
   "id": "5508ebb8",
   "metadata": {
    "slideshow": {
     "slide_type": "subslide"
    }
   },
   "outputs": [
    {
     "data": {
      "text/html": [
       "<div>\n",
       "<style scoped>\n",
       "    .dataframe tbody tr th:only-of-type {\n",
       "        vertical-align: middle;\n",
       "    }\n",
       "\n",
       "    .dataframe tbody tr th {\n",
       "        vertical-align: top;\n",
       "    }\n",
       "\n",
       "    .dataframe thead th {\n",
       "        text-align: right;\n",
       "    }\n",
       "</style>\n",
       "<table border=\"1\" class=\"dataframe\">\n",
       "  <thead>\n",
       "    <tr style=\"text-align: right;\">\n",
       "      <th></th>\n",
       "      <th>Tipo Prestacion</th>\n",
       "      <th>Porcentaje</th>\n",
       "    </tr>\n",
       "  </thead>\n",
       "  <tbody>\n",
       "    <tr>\n",
       "      <th>0</th>\n",
       "      <td>Enero</td>\n",
       "      <td>13.13</td>\n",
       "    </tr>\n",
       "    <tr>\n",
       "      <th>1</th>\n",
       "      <td>Febrero</td>\n",
       "      <td>12.73</td>\n",
       "    </tr>\n",
       "    <tr>\n",
       "      <th>2</th>\n",
       "      <td>Marzo</td>\n",
       "      <td>11.21</td>\n",
       "    </tr>\n",
       "    <tr>\n",
       "      <th>3</th>\n",
       "      <td>Noviembre</td>\n",
       "      <td>9.01</td>\n",
       "    </tr>\n",
       "    <tr>\n",
       "      <th>4</th>\n",
       "      <td>Octubre</td>\n",
       "      <td>8.63</td>\n",
       "    </tr>\n",
       "    <tr>\n",
       "      <th>5</th>\n",
       "      <td>Diciembre</td>\n",
       "      <td>8.51</td>\n",
       "    </tr>\n",
       "    <tr>\n",
       "      <th>6</th>\n",
       "      <td>Septiembre</td>\n",
       "      <td>7.68</td>\n",
       "    </tr>\n",
       "    <tr>\n",
       "      <th>7</th>\n",
       "      <td>Agosto</td>\n",
       "      <td>6.87</td>\n",
       "    </tr>\n",
       "    <tr>\n",
       "      <th>8</th>\n",
       "      <td>Junio</td>\n",
       "      <td>6.34</td>\n",
       "    </tr>\n",
       "    <tr>\n",
       "      <th>9</th>\n",
       "      <td>Mayo</td>\n",
       "      <td>6.18</td>\n",
       "    </tr>\n",
       "    <tr>\n",
       "      <th>10</th>\n",
       "      <td>Julio</td>\n",
       "      <td>5.81</td>\n",
       "    </tr>\n",
       "    <tr>\n",
       "      <th>11</th>\n",
       "      <td>Abril</td>\n",
       "      <td>3.90</td>\n",
       "    </tr>\n",
       "  </tbody>\n",
       "</table>\n",
       "</div>"
      ],
      "text/plain": [
       "   Tipo Prestacion  Porcentaje\n",
       "0            Enero       13.13\n",
       "1          Febrero       12.73\n",
       "2            Marzo       11.21\n",
       "3        Noviembre        9.01\n",
       "4          Octubre        8.63\n",
       "5        Diciembre        8.51\n",
       "6       Septiembre        7.68\n",
       "7           Agosto        6.87\n",
       "8            Junio        6.34\n",
       "9             Mayo        6.18\n",
       "10           Julio        5.81\n",
       "11           Abril        3.90"
      ]
     },
     "execution_count": 46,
     "metadata": {},
     "output_type": "execute_result"
    }
   ],
   "source": [
    "df_porc_mes = pd.DataFrame({\"Tipo Prestacion\": df[\"mes\"].value_counts().index,\n",
    "                             \"Porcentaje\": round(df[\"mes\"].value_counts(normalize=True)*100,2).values\n",
    "                          })\n",
    "df_porc_mes"
   ]
  },
  {
   "cell_type": "code",
   "execution_count": 47,
   "id": "d410f761",
   "metadata": {
    "slideshow": {
     "slide_type": "subslide"
    }
   },
   "outputs": [
    {
     "data": {
      "image/png": "[encoded data removed]",
      "text/plain": [
       "<Figure size 1008x360 with 1 Axes>"
      ]
     },
     "metadata": {
      "needs_background": "light"
     },
     "output_type": "display_data"
    }
   ],
   "source": [
    "plt.figure(figsize=(14,5))\n",
    "sns.countplot(data = df,\n",
    "              x = \"mes\", \n",
    "              order = df[\"mes\"].value_counts().index)\n",
    "plt.show()"
   ]
  },
  {
   "cell_type": "code",
   "execution_count": 62,
   "id": "6b69dfe8",
   "metadata": {
    "slideshow": {
     "slide_type": "subslide"
    }
   },
   "outputs": [
    {
     "data": {
      "text/html": [
       "<div>\n",
       "<style scoped>\n",
       "    .dataframe tbody tr th:only-of-type {\n",
       "        vertical-align: middle;\n",
       "    }\n",
       "\n",
       "    .dataframe tbody tr th {\n",
       "        vertical-align: top;\n",
       "    }\n",
       "\n",
       "    .dataframe thead th {\n",
       "        text-align: right;\n",
       "    }\n",
       "</style>\n",
       "<table border=\"1\" class=\"dataframe\">\n",
       "  <thead>\n",
       "    <tr style=\"text-align: right;\">\n",
       "      <th></th>\n",
       "      <th>Genero</th>\n",
       "      <th>Cantidad</th>\n",
       "    </tr>\n",
       "  </thead>\n",
       "  <tbody>\n",
       "    <tr>\n",
       "      <th>0</th>\n",
       "      <td>MASCULINO</td>\n",
       "      <td>270885</td>\n",
       "    </tr>\n",
       "    <tr>\n",
       "      <th>1</th>\n",
       "      <td>FEMENINO</td>\n",
       "      <td>229948</td>\n",
       "    </tr>\n",
       "    <tr>\n",
       "      <th>2</th>\n",
       "      <td>SIN GENERO</td>\n",
       "      <td>73070</td>\n",
       "    </tr>\n",
       "    <tr>\n",
       "      <th>3</th>\n",
       "      <td>OTROS</td>\n",
       "      <td>532</td>\n",
       "    </tr>\n",
       "  </tbody>\n",
       "</table>\n",
       "</div>"
      ],
      "text/plain": [
       "       Genero  Cantidad\n",
       "0   MASCULINO    270885\n",
       "1    FEMENINO    229948\n",
       "2  SIN GENERO     73070\n",
       "3       OTROS       532"
      ]
     },
     "execution_count": 62,
     "metadata": {},
     "output_type": "execute_result"
    }
   ],
   "source": [
    "#Se analizan los contactos realizados por género\n",
    "\n",
    "genero = pd.Series(df['genero'])\n",
    "df_genero = pd.DataFrame({\"Genero\": genero.value_counts().index,\n",
    "                         \"Cantidad\": genero.value_counts().values\n",
    "                                })\n",
    "df_genero"
   ]
  },
  {
   "cell_type": "code",
   "execution_count": 52,
   "id": "dffcff04",
   "metadata": {
    "slideshow": {
     "slide_type": "fragment"
    }
   },
   "outputs": [
    {
     "data": {
      "text/html": [
       "<div>\n",
       "<style scoped>\n",
       "    .dataframe tbody tr th:only-of-type {\n",
       "        vertical-align: middle;\n",
       "    }\n",
       "\n",
       "    .dataframe tbody tr th {\n",
       "        vertical-align: top;\n",
       "    }\n",
       "\n",
       "    .dataframe thead th {\n",
       "        text-align: right;\n",
       "    }\n",
       "</style>\n",
       "<table border=\"1\" class=\"dataframe\">\n",
       "  <thead>\n",
       "    <tr style=\"text-align: right;\">\n",
       "      <th></th>\n",
       "      <th>Genero</th>\n",
       "      <th>Porcentaje</th>\n",
       "    </tr>\n",
       "  </thead>\n",
       "  <tbody>\n",
       "    <tr>\n",
       "      <th>0</th>\n",
       "      <td>MASCULINO</td>\n",
       "      <td>47.16</td>\n",
       "    </tr>\n",
       "    <tr>\n",
       "      <th>1</th>\n",
       "      <td>FEMENINO</td>\n",
       "      <td>40.03</td>\n",
       "    </tr>\n",
       "    <tr>\n",
       "      <th>2</th>\n",
       "      <td>SIN GENERO</td>\n",
       "      <td>12.72</td>\n",
       "    </tr>\n",
       "    <tr>\n",
       "      <th>3</th>\n",
       "      <td>OTROS</td>\n",
       "      <td>0.09</td>\n",
       "    </tr>\n",
       "  </tbody>\n",
       "</table>\n",
       "</div>"
      ],
      "text/plain": [
       "       Genero  Porcentaje\n",
       "0   MASCULINO       47.16\n",
       "1    FEMENINO       40.03\n",
       "2  SIN GENERO       12.72\n",
       "3       OTROS        0.09"
      ]
     },
     "execution_count": 52,
     "metadata": {},
     "output_type": "execute_result"
    }
   ],
   "source": [
    "df_porc_genero = pd.DataFrame({\"Genero\": genero.value_counts().index,\n",
    "                              \"Porcentaje\": round((genero).value_counts(normalize=True)*100,2).values\n",
    "                             })\n",
    "df_porc_genero"
   ]
  },
  {
   "cell_type": "code",
   "execution_count": 53,
   "id": "8e560acf",
   "metadata": {
    "slideshow": {
     "slide_type": "subslide"
    }
   },
   "outputs": [
    {
     "data": {
      "image/png": "[encoded data removed]",
      "text/plain": [
       "<Figure size 720x360 with 1 Axes>"
      ]
     },
     "metadata": {
      "needs_background": "light"
     },
     "output_type": "display_data"
    }
   ],
   "source": [
    "plt.figure(figsize=(10,5))\n",
    "sns.countplot(data = df,\n",
    "              x = \"genero\", \n",
    "              order = genero.value_counts().index)\n",
    "plt.show()"
   ]
  },
  {
   "cell_type": "code",
   "execution_count": 55,
   "id": "0aff7e48",
   "metadata": {
    "slideshow": {
     "slide_type": "subslide"
    }
   },
   "outputs": [
    {
     "data": {
      "text/html": [
       "<div>\n",
       "<style scoped>\n",
       "    .dataframe tbody tr th:only-of-type {\n",
       "        vertical-align: middle;\n",
       "    }\n",
       "\n",
       "    .dataframe tbody tr th {\n",
       "        vertical-align: top;\n",
       "    }\n",
       "\n",
       "    .dataframe thead th {\n",
       "        text-align: right;\n",
       "    }\n",
       "</style>\n",
       "<table border=\"1\" class=\"dataframe\">\n",
       "  <thead>\n",
       "    <tr style=\"text-align: right;\">\n",
       "      <th></th>\n",
       "      <th>domicilio_cgpc</th>\n",
       "      <th>categoria</th>\n",
       "      <th>subcategoria</th>\n",
       "      <th>canal</th>\n",
       "    </tr>\n",
       "  </thead>\n",
       "  <tbody>\n",
       "    <tr>\n",
       "      <th>0</th>\n",
       "      <td>COMUNA 6</td>\n",
       "      <td>TRÁNSITO</td>\n",
       "      <td>DENUNCIA VIAL</td>\n",
       "      <td>Comunas</td>\n",
       "    </tr>\n",
       "    <tr>\n",
       "      <th>1</th>\n",
       "      <td>COMUNA 4</td>\n",
       "      <td>TRÁNSITO</td>\n",
       "      <td>DENUNCIA VIAL</td>\n",
       "      <td>Comunas</td>\n",
       "    </tr>\n",
       "    <tr>\n",
       "      <th>5</th>\n",
       "      <td>COMUNA 4</td>\n",
       "      <td>FISCALIZACIÓN ACTIVIDADES COMERCIALES</td>\n",
       "      <td>HABILITACIONES Y PERMISOS</td>\n",
       "      <td>Comunas</td>\n",
       "    </tr>\n",
       "    <tr>\n",
       "      <th>7</th>\n",
       "      <td>COMUNA 12</td>\n",
       "      <td>TRÁNSITO</td>\n",
       "      <td>DENUNCIA VIAL</td>\n",
       "      <td>Comunas</td>\n",
       "    </tr>\n",
       "    <tr>\n",
       "      <th>8</th>\n",
       "      <td>COMUNA 13</td>\n",
       "      <td>TRÁNSITO</td>\n",
       "      <td>DENUNCIA VIAL</td>\n",
       "      <td>Comunas</td>\n",
       "    </tr>\n",
       "  </tbody>\n",
       "</table>\n",
       "</div>"
      ],
      "text/plain": [
       "  domicilio_cgpc                              categoria  \\\n",
       "0       COMUNA 6                               TRÁNSITO   \n",
       "1       COMUNA 4                               TRÁNSITO   \n",
       "5       COMUNA 4  FISCALIZACIÓN ACTIVIDADES COMERCIALES   \n",
       "7      COMUNA 12                               TRÁNSITO   \n",
       "8      COMUNA 13                               TRÁNSITO   \n",
       "\n",
       "                subcategoria    canal  \n",
       "0              DENUNCIA VIAL  Comunas  \n",
       "1              DENUNCIA VIAL  Comunas  \n",
       "5  HABILITACIONES Y PERMISOS  Comunas  \n",
       "7              DENUNCIA VIAL  Comunas  \n",
       "8              DENUNCIA VIAL  Comunas  "
      ]
     },
     "execution_count": 55,
     "metadata": {},
     "output_type": "execute_result"
    }
   ],
   "source": [
    "#Se toman los contactos por denuncias\n",
    "\n",
    "df_denuncia = df.loc[(df.tipo_prestacion == 'DENUNCIA') ,['domicilio_cgpc','categoria','subcategoria', 'canal']]\n",
    "df_denuncia.head(5)"
   ]
  },
  {
   "cell_type": "code",
   "execution_count": 56,
   "id": "b4bb918b",
   "metadata": {
    "slideshow": {
     "slide_type": "subslide"
    }
   },
   "outputs": [
    {
     "data": {
      "text/html": [
       "<div>\n",
       "<style scoped>\n",
       "    .dataframe tbody tr th:only-of-type {\n",
       "        vertical-align: middle;\n",
       "    }\n",
       "\n",
       "    .dataframe tbody tr th {\n",
       "        vertical-align: top;\n",
       "    }\n",
       "\n",
       "    .dataframe thead th {\n",
       "        text-align: right;\n",
       "    }\n",
       "</style>\n",
       "<table border=\"1\" class=\"dataframe\">\n",
       "  <thead>\n",
       "    <tr style=\"text-align: right;\">\n",
       "      <th></th>\n",
       "      <th>Comuna</th>\n",
       "      <th>Cantidad</th>\n",
       "    </tr>\n",
       "  </thead>\n",
       "  <tbody>\n",
       "    <tr>\n",
       "      <th>0</th>\n",
       "      <td>COMUNA 12</td>\n",
       "      <td>16477</td>\n",
       "    </tr>\n",
       "    <tr>\n",
       "      <th>1</th>\n",
       "      <td>COMUNA 13</td>\n",
       "      <td>14332</td>\n",
       "    </tr>\n",
       "    <tr>\n",
       "      <th>2</th>\n",
       "      <td>COMUNA 14</td>\n",
       "      <td>13539</td>\n",
       "    </tr>\n",
       "    <tr>\n",
       "      <th>3</th>\n",
       "      <td>COMUNA 11</td>\n",
       "      <td>11412</td>\n",
       "    </tr>\n",
       "    <tr>\n",
       "      <th>4</th>\n",
       "      <td>COMUNA 15</td>\n",
       "      <td>11057</td>\n",
       "    </tr>\n",
       "    <tr>\n",
       "      <th>5</th>\n",
       "      <td>COMUNA 10</td>\n",
       "      <td>10327</td>\n",
       "    </tr>\n",
       "    <tr>\n",
       "      <th>6</th>\n",
       "      <td>COMUNA 7</td>\n",
       "      <td>9317</td>\n",
       "    </tr>\n",
       "    <tr>\n",
       "      <th>7</th>\n",
       "      <td>COMUNA 6</td>\n",
       "      <td>9244</td>\n",
       "    </tr>\n",
       "    <tr>\n",
       "      <th>8</th>\n",
       "      <td>COMUNA 5</td>\n",
       "      <td>7993</td>\n",
       "    </tr>\n",
       "    <tr>\n",
       "      <th>9</th>\n",
       "      <td>COMUNA 1</td>\n",
       "      <td>7298</td>\n",
       "    </tr>\n",
       "    <tr>\n",
       "      <th>10</th>\n",
       "      <td>COMUNA 9</td>\n",
       "      <td>7017</td>\n",
       "    </tr>\n",
       "    <tr>\n",
       "      <th>11</th>\n",
       "      <td>COMUNA 3</td>\n",
       "      <td>6465</td>\n",
       "    </tr>\n",
       "    <tr>\n",
       "      <th>12</th>\n",
       "      <td>COMUNA 4</td>\n",
       "      <td>5564</td>\n",
       "    </tr>\n",
       "    <tr>\n",
       "      <th>13</th>\n",
       "      <td>SIN COMUNA</td>\n",
       "      <td>5165</td>\n",
       "    </tr>\n",
       "    <tr>\n",
       "      <th>14</th>\n",
       "      <td>COMUNA 2</td>\n",
       "      <td>4606</td>\n",
       "    </tr>\n",
       "    <tr>\n",
       "      <th>15</th>\n",
       "      <td>COMUNA 8</td>\n",
       "      <td>2904</td>\n",
       "    </tr>\n",
       "  </tbody>\n",
       "</table>\n",
       "</div>"
      ],
      "text/plain": [
       "        Comuna  Cantidad\n",
       "0    COMUNA 12     16477\n",
       "1    COMUNA 13     14332\n",
       "2    COMUNA 14     13539\n",
       "3    COMUNA 11     11412\n",
       "4    COMUNA 15     11057\n",
       "5    COMUNA 10     10327\n",
       "6     COMUNA 7      9317\n",
       "7     COMUNA 6      9244\n",
       "8     COMUNA 5      7993\n",
       "9     COMUNA 1      7298\n",
       "10    COMUNA 9      7017\n",
       "11    COMUNA 3      6465\n",
       "12    COMUNA 4      5564\n",
       "13  SIN COMUNA      5165\n",
       "14    COMUNA 2      4606\n",
       "15    COMUNA 8      2904"
      ]
     },
     "execution_count": 56,
     "metadata": {},
     "output_type": "execute_result"
    }
   ],
   "source": [
    "#Se cuentan las denuncias por Comuna\n",
    "\n",
    "df_den_tipo_prestacion = pd.DataFrame({\"Comuna\": df_denuncia[\"domicilio_cgpc\"].value_counts().index,\n",
    "                                       \"Cantidad\": df_denuncia[\"domicilio_cgpc\"].value_counts().values\n",
    "                                       })\n",
    "df_den_tipo_prestacion"
   ]
  },
  {
   "cell_type": "code",
   "execution_count": 57,
   "id": "c5d5154a",
   "metadata": {
    "slideshow": {
     "slide_type": "subslide"
    }
   },
   "outputs": [
    {
     "data": {
      "text/html": [
       "<div>\n",
       "<style scoped>\n",
       "    .dataframe tbody tr th:only-of-type {\n",
       "        vertical-align: middle;\n",
       "    }\n",
       "\n",
       "    .dataframe tbody tr th {\n",
       "        vertical-align: top;\n",
       "    }\n",
       "\n",
       "    .dataframe thead th {\n",
       "        text-align: right;\n",
       "    }\n",
       "</style>\n",
       "<table border=\"1\" class=\"dataframe\">\n",
       "  <thead>\n",
       "    <tr style=\"text-align: right;\">\n",
       "      <th></th>\n",
       "      <th>Comuna</th>\n",
       "      <th>Porcentaje</th>\n",
       "    </tr>\n",
       "  </thead>\n",
       "  <tbody>\n",
       "    <tr>\n",
       "      <th>0</th>\n",
       "      <td>COMUNA 12</td>\n",
       "      <td>11.55</td>\n",
       "    </tr>\n",
       "    <tr>\n",
       "      <th>1</th>\n",
       "      <td>COMUNA 13</td>\n",
       "      <td>10.04</td>\n",
       "    </tr>\n",
       "    <tr>\n",
       "      <th>2</th>\n",
       "      <td>COMUNA 14</td>\n",
       "      <td>9.49</td>\n",
       "    </tr>\n",
       "    <tr>\n",
       "      <th>3</th>\n",
       "      <td>COMUNA 11</td>\n",
       "      <td>8.00</td>\n",
       "    </tr>\n",
       "    <tr>\n",
       "      <th>4</th>\n",
       "      <td>COMUNA 15</td>\n",
       "      <td>7.75</td>\n",
       "    </tr>\n",
       "    <tr>\n",
       "      <th>5</th>\n",
       "      <td>COMUNA 10</td>\n",
       "      <td>7.24</td>\n",
       "    </tr>\n",
       "    <tr>\n",
       "      <th>6</th>\n",
       "      <td>COMUNA 7</td>\n",
       "      <td>6.53</td>\n",
       "    </tr>\n",
       "    <tr>\n",
       "      <th>7</th>\n",
       "      <td>COMUNA 6</td>\n",
       "      <td>6.48</td>\n",
       "    </tr>\n",
       "    <tr>\n",
       "      <th>8</th>\n",
       "      <td>COMUNA 5</td>\n",
       "      <td>5.60</td>\n",
       "    </tr>\n",
       "    <tr>\n",
       "      <th>9</th>\n",
       "      <td>COMUNA 1</td>\n",
       "      <td>5.11</td>\n",
       "    </tr>\n",
       "    <tr>\n",
       "      <th>10</th>\n",
       "      <td>COMUNA 9</td>\n",
       "      <td>4.92</td>\n",
       "    </tr>\n",
       "    <tr>\n",
       "      <th>11</th>\n",
       "      <td>COMUNA 3</td>\n",
       "      <td>4.53</td>\n",
       "    </tr>\n",
       "    <tr>\n",
       "      <th>12</th>\n",
       "      <td>COMUNA 4</td>\n",
       "      <td>3.90</td>\n",
       "    </tr>\n",
       "    <tr>\n",
       "      <th>13</th>\n",
       "      <td>SIN COMUNA</td>\n",
       "      <td>3.62</td>\n",
       "    </tr>\n",
       "    <tr>\n",
       "      <th>14</th>\n",
       "      <td>COMUNA 2</td>\n",
       "      <td>3.23</td>\n",
       "    </tr>\n",
       "    <tr>\n",
       "      <th>15</th>\n",
       "      <td>COMUNA 8</td>\n",
       "      <td>2.03</td>\n",
       "    </tr>\n",
       "  </tbody>\n",
       "</table>\n",
       "</div>"
      ],
      "text/plain": [
       "        Comuna  Porcentaje\n",
       "0    COMUNA 12       11.55\n",
       "1    COMUNA 13       10.04\n",
       "2    COMUNA 14        9.49\n",
       "3    COMUNA 11        8.00\n",
       "4    COMUNA 15        7.75\n",
       "5    COMUNA 10        7.24\n",
       "6     COMUNA 7        6.53\n",
       "7     COMUNA 6        6.48\n",
       "8     COMUNA 5        5.60\n",
       "9     COMUNA 1        5.11\n",
       "10    COMUNA 9        4.92\n",
       "11    COMUNA 3        4.53\n",
       "12    COMUNA 4        3.90\n",
       "13  SIN COMUNA        3.62\n",
       "14    COMUNA 2        3.23\n",
       "15    COMUNA 8        2.03"
      ]
     },
     "execution_count": 57,
     "metadata": {},
     "output_type": "execute_result"
    }
   ],
   "source": [
    "\n",
    "df_den_tipo_prest_porc = pd.DataFrame({\"Comuna\": df_denuncia[\"domicilio_cgpc\"].value_counts().index,\n",
    "                                            \"Porcentaje\": round(df_denuncia[\"domicilio_cgpc\"].value_counts(normalize=True)*100,2).values\n",
    "                                           })\n",
    "df_den_tipo_prest_porc"
   ]
  },
  {
   "cell_type": "code",
   "execution_count": 58,
   "id": "3c95ab65",
   "metadata": {
    "scrolled": true,
    "slideshow": {
     "slide_type": "subslide"
    }
   },
   "outputs": [
    {
     "data": {
      "image/png": "[encoded data removed]",
      "text/plain": [
       "<Figure size 1296x360 with 1 Axes>"
      ]
     },
     "metadata": {
      "needs_background": "light"
     },
     "output_type": "display_data"
    }
   ],
   "source": [
    "plt.figure(figsize=(18,5))\n",
    "sns.countplot(data = df_denuncia,\n",
    "              x = \"domicilio_cgpc\", \n",
    "              order = df_denuncia[\"domicilio_cgpc\"].value_counts().index)\n",
    "plt.show()"
   ]
  },
  {
   "cell_type": "code",
   "execution_count": 59,
   "id": "b57c1dfe",
   "metadata": {
    "slideshow": {
     "slide_type": "subslide"
    }
   },
   "outputs": [
    {
     "data": {
      "text/html": [
       "<div>\n",
       "<style scoped>\n",
       "    .dataframe tbody tr th:only-of-type {\n",
       "        vertical-align: middle;\n",
       "    }\n",
       "\n",
       "    .dataframe tbody tr th {\n",
       "        vertical-align: top;\n",
       "    }\n",
       "\n",
       "    .dataframe thead th {\n",
       "        text-align: right;\n",
       "    }\n",
       "</style>\n",
       "<table border=\"1\" class=\"dataframe\">\n",
       "  <thead>\n",
       "    <tr style=\"text-align: right;\">\n",
       "      <th></th>\n",
       "      <th>Canal</th>\n",
       "      <th>Cantidad</th>\n",
       "    </tr>\n",
       "  </thead>\n",
       "  <tbody>\n",
       "    <tr>\n",
       "      <th>0</th>\n",
       "      <td>Comunas</td>\n",
       "      <td>60100</td>\n",
       "    </tr>\n",
       "    <tr>\n",
       "      <th>1</th>\n",
       "      <td>App Denuncia Vial</td>\n",
       "      <td>40201</td>\n",
       "    </tr>\n",
       "    <tr>\n",
       "      <th>2</th>\n",
       "      <td>App BA 147</td>\n",
       "      <td>10931</td>\n",
       "    </tr>\n",
       "    <tr>\n",
       "      <th>3</th>\n",
       "      <td>147</td>\n",
       "      <td>10248</td>\n",
       "    </tr>\n",
       "    <tr>\n",
       "      <th>4</th>\n",
       "      <td>GCS Web</td>\n",
       "      <td>8319</td>\n",
       "    </tr>\n",
       "    <tr>\n",
       "      <th>5</th>\n",
       "      <td>App</td>\n",
       "      <td>7656</td>\n",
       "    </tr>\n",
       "    <tr>\n",
       "      <th>6</th>\n",
       "      <td>Boti</td>\n",
       "      <td>2704</td>\n",
       "    </tr>\n",
       "    <tr>\n",
       "      <th>7</th>\n",
       "      <td>Web</td>\n",
       "      <td>364</td>\n",
       "    </tr>\n",
       "    <tr>\n",
       "      <th>8</th>\n",
       "      <td>Operador GCBA</td>\n",
       "      <td>269</td>\n",
       "    </tr>\n",
       "    <tr>\n",
       "      <th>9</th>\n",
       "      <td>Call Center</td>\n",
       "      <td>70</td>\n",
       "    </tr>\n",
       "    <tr>\n",
       "      <th>10</th>\n",
       "      <td>Cercania</td>\n",
       "      <td>51</td>\n",
       "    </tr>\n",
       "    <tr>\n",
       "      <th>11</th>\n",
       "      <td>Comuna</td>\n",
       "      <td>35</td>\n",
       "    </tr>\n",
       "    <tr>\n",
       "      <th>12</th>\n",
       "      <td>Mail 147</td>\n",
       "      <td>34</td>\n",
       "    </tr>\n",
       "  </tbody>\n",
       "</table>\n",
       "</div>"
      ],
      "text/plain": [
       "                Canal  Cantidad\n",
       "0             Comunas     60100\n",
       "1   App Denuncia Vial     40201\n",
       "2          App BA 147     10931\n",
       "3                 147     10248\n",
       "4             GCS Web      8319\n",
       "5                 App      7656\n",
       "6                Boti      2704\n",
       "7                 Web       364\n",
       "8       Operador GCBA       269\n",
       "9         Call Center        70\n",
       "10           Cercania        51\n",
       "11             Comuna        35\n",
       "12           Mail 147        34"
      ]
     },
     "execution_count": 59,
     "metadata": {},
     "output_type": "execute_result"
    }
   ],
   "source": [
    "#Se revisan las denuncias según el canal a través del cual se realizaron\n",
    "\n",
    "df_den_canal = pd.DataFrame({\"Canal\": df_denuncia[\"canal\"].value_counts().index,\n",
    "                                   \"Cantidad\": df_denuncia[\"canal\"].value_counts().values\n",
    "                                  })\n",
    "df_den_canal"
   ]
  },
  {
   "cell_type": "code",
   "execution_count": 60,
   "id": "f069e952",
   "metadata": {
    "slideshow": {
     "slide_type": "subslide"
    }
   },
   "outputs": [
    {
     "data": {
      "text/html": [
       "<div>\n",
       "<style scoped>\n",
       "    .dataframe tbody tr th:only-of-type {\n",
       "        vertical-align: middle;\n",
       "    }\n",
       "\n",
       "    .dataframe tbody tr th {\n",
       "        vertical-align: top;\n",
       "    }\n",
       "\n",
       "    .dataframe thead th {\n",
       "        text-align: right;\n",
       "    }\n",
       "</style>\n",
       "<table border=\"1\" class=\"dataframe\">\n",
       "  <thead>\n",
       "    <tr style=\"text-align: right;\">\n",
       "      <th></th>\n",
       "      <th>Canal</th>\n",
       "      <th>Porcentaje</th>\n",
       "    </tr>\n",
       "  </thead>\n",
       "  <tbody>\n",
       "    <tr>\n",
       "      <th>0</th>\n",
       "      <td>Comunas</td>\n",
       "      <td>42.63</td>\n",
       "    </tr>\n",
       "    <tr>\n",
       "      <th>1</th>\n",
       "      <td>App Denuncia Vial</td>\n",
       "      <td>28.51</td>\n",
       "    </tr>\n",
       "    <tr>\n",
       "      <th>2</th>\n",
       "      <td>App BA 147</td>\n",
       "      <td>7.75</td>\n",
       "    </tr>\n",
       "    <tr>\n",
       "      <th>3</th>\n",
       "      <td>147</td>\n",
       "      <td>7.27</td>\n",
       "    </tr>\n",
       "    <tr>\n",
       "      <th>4</th>\n",
       "      <td>GCS Web</td>\n",
       "      <td>5.90</td>\n",
       "    </tr>\n",
       "    <tr>\n",
       "      <th>5</th>\n",
       "      <td>App</td>\n",
       "      <td>5.43</td>\n",
       "    </tr>\n",
       "    <tr>\n",
       "      <th>6</th>\n",
       "      <td>Boti</td>\n",
       "      <td>1.92</td>\n",
       "    </tr>\n",
       "    <tr>\n",
       "      <th>7</th>\n",
       "      <td>Web</td>\n",
       "      <td>0.26</td>\n",
       "    </tr>\n",
       "    <tr>\n",
       "      <th>8</th>\n",
       "      <td>Operador GCBA</td>\n",
       "      <td>0.19</td>\n",
       "    </tr>\n",
       "    <tr>\n",
       "      <th>9</th>\n",
       "      <td>Call Center</td>\n",
       "      <td>0.05</td>\n",
       "    </tr>\n",
       "    <tr>\n",
       "      <th>10</th>\n",
       "      <td>Cercania</td>\n",
       "      <td>0.04</td>\n",
       "    </tr>\n",
       "    <tr>\n",
       "      <th>11</th>\n",
       "      <td>Comuna</td>\n",
       "      <td>0.02</td>\n",
       "    </tr>\n",
       "    <tr>\n",
       "      <th>12</th>\n",
       "      <td>Mail 147</td>\n",
       "      <td>0.02</td>\n",
       "    </tr>\n",
       "  </tbody>\n",
       "</table>\n",
       "</div>"
      ],
      "text/plain": [
       "                Canal  Porcentaje\n",
       "0             Comunas       42.63\n",
       "1   App Denuncia Vial       28.51\n",
       "2          App BA 147        7.75\n",
       "3                 147        7.27\n",
       "4             GCS Web        5.90\n",
       "5                 App        5.43\n",
       "6                Boti        1.92\n",
       "7                 Web        0.26\n",
       "8       Operador GCBA        0.19\n",
       "9         Call Center        0.05\n",
       "10           Cercania        0.04\n",
       "11             Comuna        0.02\n",
       "12           Mail 147        0.02"
      ]
     },
     "execution_count": 60,
     "metadata": {},
     "output_type": "execute_result"
    }
   ],
   "source": [
    "df_den_canal = pd.DataFrame({\"Canal\": df_denuncia[\"canal\"].value_counts().index,\n",
    "                                   \"Porcentaje\": round(df_denuncia[\"canal\"].value_counts(normalize=True)*100,2).values\n",
    "                                  })\n",
    "df_den_canal"
   ]
  },
  {
   "cell_type": "code",
   "execution_count": 61,
   "id": "60632776",
   "metadata": {
    "slideshow": {
     "slide_type": "subslide"
    }
   },
   "outputs": [
    {
     "data": {
      "image/png": "[encoded data removed]",
      "text/plain": [
       "<Figure size 1296x360 with 1 Axes>"
      ]
     },
     "metadata": {
      "needs_background": "light"
     },
     "output_type": "display_data"
    }
   ],
   "source": [
    "plt.figure(figsize=(18,5))\n",
    "sns.countplot(data = df_denuncia,\n",
    "              x = \"canal\", \n",
    "              order = df_denuncia[\"canal\"].value_counts().index)\n",
    "plt.show()"
   ]
  },
  {
   "cell_type": "markdown",
   "id": "e27f73f1",
   "metadata": {
    "slideshow": {
     "slide_type": "slide"
    }
   },
   "source": [
    "## 5. Conclusiones\n",
    "\n",
    "- El tipo de contacto predominante son las _Solicitudes_, seguidas por las _Denuncias_. \n",
    "\n",
    "- Se pudo observar que la _mayor cantidad de Contactos durante el Verano_. Pero deberían analizarse los datos correspondientes a otros años para poder afirmar si los datos presentan esa tendencia de estacionalidad. \n",
    "\n",
    "- Las categorías que presentan los mayores contactos son _\"Tránsito\"_ y _\"Limpieza y recolección\"_.\n",
    "\n",
    "- El género _no pareciera ser una variable que influya en la cantidad de contactos que se realizan_.Sin embargo, debería realizarse alguna prueba estadística para poder asegurarlo.  \n",
    "\n",
    "- Las Comunas 12, 13 y 14 son las que presentan mayor cantidad de Denuncias.\n",
    "\n",
    "- Los canales de comunicación para realizar Denuncias fueron las _Comunas_, la _App Denuncia Vial_ y la _App BA 147_. \n"
   ]
  }
 ],
 "metadata": {
  "celltoolbar": "Slideshow",
  "kernelspec": {
   "display_name": "Python 3",
   "language": "python",
   "name": "python3"
  },
  "language_info": {
   "codemirror_mode": {
    "name": "ipython",
    "version": 3
   },
   "file_extension": ".py",
   "mimetype": "text/x-python",
   "name": "python",
   "nbconvert_exporter": "python",
   "pygments_lexer": "ipython3",
   "version": "3.8.8"
  }
 },
 "nbformat": 4,
 "nbformat_minor": 5
}
